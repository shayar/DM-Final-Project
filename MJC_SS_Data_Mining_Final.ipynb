{
  "nbformat": 4,
  "nbformat_minor": 0,
  "metadata": {
    "colab": {
      "provenance": [],
      "toc_visible": true,
      "authorship_tag": "ABX9TyML7JUlgNm9tjhrTnzOJkYe",
      "include_colab_link": true
    },
    "kernelspec": {
      "name": "python3",
      "display_name": "Python 3"
    },
    "language_info": {
      "name": "python"
    }
  },
  "cells": [
    {
      "cell_type": "markdown",
      "metadata": {
        "id": "view-in-github",
        "colab_type": "text"
      },
      "source": [
        "<a href=\"https://colab.research.google.com/github/shayar/DM-Final-Project/blob/main/MJC_SS_Data_Mining_Final.ipynb\" target=\"_parent\"><img src=\"https://colab.research.google.com/assets/colab-badge.svg\" alt=\"Open In Colab\"/></a>"
      ]
    },
    {
      "cell_type": "markdown",
      "source": [
        "# Introduction"
      ],
      "metadata": {
        "id": "Jt17GwcQlckm"
      }
    },
    {
      "cell_type": "markdown",
      "source": [
        "Data Mining Final Project\n",
        "\n",
        "by\n",
        "\n",
        "Matthew Curran and\n",
        "\n",
        "Shayar Shrestha"
      ],
      "metadata": {
        "id": "1hp26QXiljbZ"
      }
    },
    {
      "cell_type": "markdown",
      "source": [
        "# Load Data"
      ],
      "metadata": {
        "id": "TJtd4cnblpCA"
      }
    },
    {
      "cell_type": "code",
      "source": [
        "import pandas as pd\n",
        "\n",
        "url = 'http://pluto.hood.edu/~dong/datasets/CBC_3200.csv'\n",
        "DATA = pd.read_csv(url, header='infer')\n",
        "DATA.head(1)"
      ],
      "metadata": {
        "colab": {
          "base_uri": "https://localhost:8080/",
          "height": 100
        },
        "id": "IHJMzf2HWFXE",
        "outputId": "13761dbc-deb1-4605-dd9c-40d3e88c15b1"
      },
      "execution_count": 205,
      "outputs": [
        {
          "output_type": "execute_result",
          "data": {
            "text/plain": [
              "   Seq#    ID#  Gender    M  R  F  FirstPurch  ChildBks  YouthBks  CookBks  \\\n",
              "0  1712  14148       0  218  2  2           4         0         0        0   \n",
              "\n",
              "   DoItYBks  RefBks  ArtBks  GeogBks  ItalCook  ItalAtlas  ItalArt  Florence  \n",
              "0         0       0       0        0         0          0        0         1  "
            ],
            "text/html": [
              "\n",
              "  <div id=\"df-a122bca1-4b68-4a81-9efd-fcc759517d78\" class=\"colab-df-container\">\n",
              "    <div>\n",
              "<style scoped>\n",
              "    .dataframe tbody tr th:only-of-type {\n",
              "        vertical-align: middle;\n",
              "    }\n",
              "\n",
              "    .dataframe tbody tr th {\n",
              "        vertical-align: top;\n",
              "    }\n",
              "\n",
              "    .dataframe thead th {\n",
              "        text-align: right;\n",
              "    }\n",
              "</style>\n",
              "<table border=\"1\" class=\"dataframe\">\n",
              "  <thead>\n",
              "    <tr style=\"text-align: right;\">\n",
              "      <th></th>\n",
              "      <th>Seq#</th>\n",
              "      <th>ID#</th>\n",
              "      <th>Gender</th>\n",
              "      <th>M</th>\n",
              "      <th>R</th>\n",
              "      <th>F</th>\n",
              "      <th>FirstPurch</th>\n",
              "      <th>ChildBks</th>\n",
              "      <th>YouthBks</th>\n",
              "      <th>CookBks</th>\n",
              "      <th>DoItYBks</th>\n",
              "      <th>RefBks</th>\n",
              "      <th>ArtBks</th>\n",
              "      <th>GeogBks</th>\n",
              "      <th>ItalCook</th>\n",
              "      <th>ItalAtlas</th>\n",
              "      <th>ItalArt</th>\n",
              "      <th>Florence</th>\n",
              "    </tr>\n",
              "  </thead>\n",
              "  <tbody>\n",
              "    <tr>\n",
              "      <th>0</th>\n",
              "      <td>1712</td>\n",
              "      <td>14148</td>\n",
              "      <td>0</td>\n",
              "      <td>218</td>\n",
              "      <td>2</td>\n",
              "      <td>2</td>\n",
              "      <td>4</td>\n",
              "      <td>0</td>\n",
              "      <td>0</td>\n",
              "      <td>0</td>\n",
              "      <td>0</td>\n",
              "      <td>0</td>\n",
              "      <td>0</td>\n",
              "      <td>0</td>\n",
              "      <td>0</td>\n",
              "      <td>0</td>\n",
              "      <td>0</td>\n",
              "      <td>1</td>\n",
              "    </tr>\n",
              "  </tbody>\n",
              "</table>\n",
              "</div>\n",
              "    <div class=\"colab-df-buttons\">\n",
              "\n",
              "  <div class=\"colab-df-container\">\n",
              "    <button class=\"colab-df-convert\" onclick=\"convertToInteractive('df-a122bca1-4b68-4a81-9efd-fcc759517d78')\"\n",
              "            title=\"Convert this dataframe to an interactive table.\"\n",
              "            style=\"display:none;\">\n",
              "\n",
              "  <svg xmlns=\"http://www.w3.org/2000/svg\" height=\"24px\" viewBox=\"0 -960 960 960\">\n",
              "    <path d=\"M120-120v-720h720v720H120Zm60-500h600v-160H180v160Zm220 220h160v-160H400v160Zm0 220h160v-160H400v160ZM180-400h160v-160H180v160Zm440 0h160v-160H620v160ZM180-180h160v-160H180v160Zm440 0h160v-160H620v160Z\"/>\n",
              "  </svg>\n",
              "    </button>\n",
              "\n",
              "  <style>\n",
              "    .colab-df-container {\n",
              "      display:flex;\n",
              "      gap: 12px;\n",
              "    }\n",
              "\n",
              "    .colab-df-convert {\n",
              "      background-color: #E8F0FE;\n",
              "      border: none;\n",
              "      border-radius: 50%;\n",
              "      cursor: pointer;\n",
              "      display: none;\n",
              "      fill: #1967D2;\n",
              "      height: 32px;\n",
              "      padding: 0 0 0 0;\n",
              "      width: 32px;\n",
              "    }\n",
              "\n",
              "    .colab-df-convert:hover {\n",
              "      background-color: #E2EBFA;\n",
              "      box-shadow: 0px 1px 2px rgba(60, 64, 67, 0.3), 0px 1px 3px 1px rgba(60, 64, 67, 0.15);\n",
              "      fill: #174EA6;\n",
              "    }\n",
              "\n",
              "    .colab-df-buttons div {\n",
              "      margin-bottom: 4px;\n",
              "    }\n",
              "\n",
              "    [theme=dark] .colab-df-convert {\n",
              "      background-color: #3B4455;\n",
              "      fill: #D2E3FC;\n",
              "    }\n",
              "\n",
              "    [theme=dark] .colab-df-convert:hover {\n",
              "      background-color: #434B5C;\n",
              "      box-shadow: 0px 1px 3px 1px rgba(0, 0, 0, 0.15);\n",
              "      filter: drop-shadow(0px 1px 2px rgba(0, 0, 0, 0.3));\n",
              "      fill: #FFFFFF;\n",
              "    }\n",
              "  </style>\n",
              "\n",
              "    <script>\n",
              "      const buttonEl =\n",
              "        document.querySelector('#df-a122bca1-4b68-4a81-9efd-fcc759517d78 button.colab-df-convert');\n",
              "      buttonEl.style.display =\n",
              "        google.colab.kernel.accessAllowed ? 'block' : 'none';\n",
              "\n",
              "      async function convertToInteractive(key) {\n",
              "        const element = document.querySelector('#df-a122bca1-4b68-4a81-9efd-fcc759517d78');\n",
              "        const dataTable =\n",
              "          await google.colab.kernel.invokeFunction('convertToInteractive',\n",
              "                                                    [key], {});\n",
              "        if (!dataTable) return;\n",
              "\n",
              "        const docLinkHtml = 'Like what you see? Visit the ' +\n",
              "          '<a target=\"_blank\" href=https://colab.research.google.com/notebooks/data_table.ipynb>data table notebook</a>'\n",
              "          + ' to learn more about interactive tables.';\n",
              "        element.innerHTML = '';\n",
              "        dataTable['output_type'] = 'display_data';\n",
              "        await google.colab.output.renderOutput(dataTable, element);\n",
              "        const docLink = document.createElement('div');\n",
              "        docLink.innerHTML = docLinkHtml;\n",
              "        element.appendChild(docLink);\n",
              "      }\n",
              "    </script>\n",
              "  </div>\n",
              "\n",
              "\n",
              "    </div>\n",
              "  </div>\n"
            ],
            "application/vnd.google.colaboratory.intrinsic+json": {
              "type": "dataframe",
              "variable_name": "DATA",
              "summary": "{\n  \"name\": \"DATA\",\n  \"rows\": 3200,\n  \"fields\": [\n    {\n      \"column\": \"Seq#\",\n      \"properties\": {\n        \"dtype\": \"number\",\n        \"std\": 1150,\n        \"min\": 1,\n        \"max\": 4000,\n        \"num_unique_values\": 3200,\n        \"samples\": [\n          2965,\n          1884,\n          2332\n        ],\n        \"semantic_type\": \"\",\n        \"description\": \"\"\n      }\n    },\n    {\n      \"column\": \"ID#\",\n      \"properties\": {\n        \"dtype\": \"number\",\n        \"std\": 9446,\n        \"min\": 25,\n        \"max\": 32977,\n        \"num_unique_values\": 3200,\n        \"samples\": [\n          24526,\n          15562,\n          19164\n        ],\n        \"semantic_type\": \"\",\n        \"description\": \"\"\n      }\n    },\n    {\n      \"column\": \"Gender\",\n      \"properties\": {\n        \"dtype\": \"number\",\n        \"std\": 0,\n        \"min\": 0,\n        \"max\": 1,\n        \"num_unique_values\": 2,\n        \"samples\": [\n          1,\n          0\n        ],\n        \"semantic_type\": \"\",\n        \"description\": \"\"\n      }\n    },\n    {\n      \"column\": \"M\",\n      \"properties\": {\n        \"dtype\": \"number\",\n        \"std\": 100,\n        \"min\": 15,\n        \"max\": 475,\n        \"num_unique_values\": 437,\n        \"samples\": [\n          454,\n          311\n        ],\n        \"semantic_type\": \"\",\n        \"description\": \"\"\n      }\n    },\n    {\n      \"column\": \"R\",\n      \"properties\": {\n        \"dtype\": \"number\",\n        \"std\": 8,\n        \"min\": 2,\n        \"max\": 36,\n        \"num_unique_values\": 18,\n        \"samples\": [\n          2,\n          6\n        ],\n        \"semantic_type\": \"\",\n        \"description\": \"\"\n      }\n    },\n    {\n      \"column\": \"F\",\n      \"properties\": {\n        \"dtype\": \"number\",\n        \"std\": 3,\n        \"min\": 1,\n        \"max\": 12,\n        \"num_unique_values\": 12,\n        \"samples\": [\n          5,\n          10\n        ],\n        \"semantic_type\": \"\",\n        \"description\": \"\"\n      }\n    },\n    {\n      \"column\": \"FirstPurch\",\n      \"properties\": {\n        \"dtype\": \"number\",\n        \"std\": 18,\n        \"min\": 2,\n        \"max\": 99,\n        \"num_unique_values\": 48,\n        \"samples\": [\n          28,\n          80\n        ],\n        \"semantic_type\": \"\",\n        \"description\": \"\"\n      }\n    },\n    {\n      \"column\": \"ChildBks\",\n      \"properties\": {\n        \"dtype\": \"number\",\n        \"std\": 0,\n        \"min\": 0,\n        \"max\": 7,\n        \"num_unique_values\": 8,\n        \"samples\": [\n          1,\n          3\n        ],\n        \"semantic_type\": \"\",\n        \"description\": \"\"\n      }\n    },\n    {\n      \"column\": \"YouthBks\",\n      \"properties\": {\n        \"dtype\": \"number\",\n        \"std\": 0,\n        \"min\": 0,\n        \"max\": 5,\n        \"num_unique_values\": 6,\n        \"samples\": [\n          0,\n          1\n        ],\n        \"semantic_type\": \"\",\n        \"description\": \"\"\n      }\n    },\n    {\n      \"column\": \"CookBks\",\n      \"properties\": {\n        \"dtype\": \"number\",\n        \"std\": 1,\n        \"min\": 0,\n        \"max\": 7,\n        \"num_unique_values\": 8,\n        \"samples\": [\n          1,\n          5\n        ],\n        \"semantic_type\": \"\",\n        \"description\": \"\"\n      }\n    },\n    {\n      \"column\": \"DoItYBks\",\n      \"properties\": {\n        \"dtype\": \"number\",\n        \"std\": 0,\n        \"min\": 0,\n        \"max\": 5,\n        \"num_unique_values\": 6,\n        \"samples\": [\n          0,\n          1\n        ],\n        \"semantic_type\": \"\",\n        \"description\": \"\"\n      }\n    },\n    {\n      \"column\": \"RefBks\",\n      \"properties\": {\n        \"dtype\": \"number\",\n        \"std\": 0,\n        \"min\": 0,\n        \"max\": 4,\n        \"num_unique_values\": 5,\n        \"samples\": [\n          1,\n          4\n        ],\n        \"semantic_type\": \"\",\n        \"description\": \"\"\n      }\n    },\n    {\n      \"column\": \"ArtBks\",\n      \"properties\": {\n        \"dtype\": \"number\",\n        \"std\": 0,\n        \"min\": 0,\n        \"max\": 4,\n        \"num_unique_values\": 5,\n        \"samples\": [\n          1,\n          4\n        ],\n        \"semantic_type\": \"\",\n        \"description\": \"\"\n      }\n    },\n    {\n      \"column\": \"GeogBks\",\n      \"properties\": {\n        \"dtype\": \"number\",\n        \"std\": 0,\n        \"min\": 0,\n        \"max\": 6,\n        \"num_unique_values\": 7,\n        \"samples\": [\n          0,\n          2\n        ],\n        \"semantic_type\": \"\",\n        \"description\": \"\"\n      }\n    },\n    {\n      \"column\": \"ItalCook\",\n      \"properties\": {\n        \"dtype\": \"number\",\n        \"std\": 0,\n        \"min\": 0,\n        \"max\": 3,\n        \"num_unique_values\": 4,\n        \"samples\": [\n          1,\n          3\n        ],\n        \"semantic_type\": \"\",\n        \"description\": \"\"\n      }\n    },\n    {\n      \"column\": \"ItalAtlas\",\n      \"properties\": {\n        \"dtype\": \"number\",\n        \"std\": 0,\n        \"min\": 0,\n        \"max\": 2,\n        \"num_unique_values\": 3,\n        \"samples\": [\n          0,\n          1\n        ],\n        \"semantic_type\": \"\",\n        \"description\": \"\"\n      }\n    },\n    {\n      \"column\": \"ItalArt\",\n      \"properties\": {\n        \"dtype\": \"number\",\n        \"std\": 0,\n        \"min\": 0,\n        \"max\": 2,\n        \"num_unique_values\": 3,\n        \"samples\": [\n          0,\n          1\n        ],\n        \"semantic_type\": \"\",\n        \"description\": \"\"\n      }\n    },\n    {\n      \"column\": \"Florence\",\n      \"properties\": {\n        \"dtype\": \"number\",\n        \"std\": 0,\n        \"min\": 0,\n        \"max\": 1,\n        \"num_unique_values\": 2,\n        \"samples\": [\n          0,\n          1\n        ],\n        \"semantic_type\": \"\",\n        \"description\": \"\"\n      }\n    }\n  ]\n}"
            }
          },
          "metadata": {},
          "execution_count": 205
        }
      ]
    },
    {
      "cell_type": "markdown",
      "source": [
        "# Exploratory Data Analysis"
      ],
      "metadata": {
        "id": "FL-unv_Px8bV"
      }
    },
    {
      "cell_type": "code",
      "source": [
        "# DATA.dtypes\n",
        "# Result: all columns are of type int."
      ],
      "metadata": {
        "id": "2GLj-RMcXIx6"
      },
      "execution_count": 206,
      "outputs": []
    },
    {
      "cell_type": "code",
      "source": [
        "# Remove ID type columns:\n",
        "df = DATA.copy(deep = True)\n",
        "Seq = df['Seq#']\n",
        "IDs = df['ID#']\n",
        "df = df.drop(columns = ['Seq#', 'ID#'])\n",
        "df.head(1)"
      ],
      "metadata": {
        "colab": {
          "base_uri": "https://localhost:8080/",
          "height": 100
        },
        "id": "capQ0tzCV8f3",
        "outputId": "3e081550-34a8-41a8-a688-6fb2d5772315"
      },
      "execution_count": 207,
      "outputs": [
        {
          "output_type": "execute_result",
          "data": {
            "text/plain": [
              "   Gender    M  R  F  FirstPurch  ChildBks  YouthBks  CookBks  DoItYBks  \\\n",
              "0       0  218  2  2           4         0         0        0         0   \n",
              "\n",
              "   RefBks  ArtBks  GeogBks  ItalCook  ItalAtlas  ItalArt  Florence  \n",
              "0       0       0        0         0          0        0         1  "
            ],
            "text/html": [
              "\n",
              "  <div id=\"df-100872c8-93ce-4b4c-b2e1-bd4988e9031a\" class=\"colab-df-container\">\n",
              "    <div>\n",
              "<style scoped>\n",
              "    .dataframe tbody tr th:only-of-type {\n",
              "        vertical-align: middle;\n",
              "    }\n",
              "\n",
              "    .dataframe tbody tr th {\n",
              "        vertical-align: top;\n",
              "    }\n",
              "\n",
              "    .dataframe thead th {\n",
              "        text-align: right;\n",
              "    }\n",
              "</style>\n",
              "<table border=\"1\" class=\"dataframe\">\n",
              "  <thead>\n",
              "    <tr style=\"text-align: right;\">\n",
              "      <th></th>\n",
              "      <th>Gender</th>\n",
              "      <th>M</th>\n",
              "      <th>R</th>\n",
              "      <th>F</th>\n",
              "      <th>FirstPurch</th>\n",
              "      <th>ChildBks</th>\n",
              "      <th>YouthBks</th>\n",
              "      <th>CookBks</th>\n",
              "      <th>DoItYBks</th>\n",
              "      <th>RefBks</th>\n",
              "      <th>ArtBks</th>\n",
              "      <th>GeogBks</th>\n",
              "      <th>ItalCook</th>\n",
              "      <th>ItalAtlas</th>\n",
              "      <th>ItalArt</th>\n",
              "      <th>Florence</th>\n",
              "    </tr>\n",
              "  </thead>\n",
              "  <tbody>\n",
              "    <tr>\n",
              "      <th>0</th>\n",
              "      <td>0</td>\n",
              "      <td>218</td>\n",
              "      <td>2</td>\n",
              "      <td>2</td>\n",
              "      <td>4</td>\n",
              "      <td>0</td>\n",
              "      <td>0</td>\n",
              "      <td>0</td>\n",
              "      <td>0</td>\n",
              "      <td>0</td>\n",
              "      <td>0</td>\n",
              "      <td>0</td>\n",
              "      <td>0</td>\n",
              "      <td>0</td>\n",
              "      <td>0</td>\n",
              "      <td>1</td>\n",
              "    </tr>\n",
              "  </tbody>\n",
              "</table>\n",
              "</div>\n",
              "    <div class=\"colab-df-buttons\">\n",
              "\n",
              "  <div class=\"colab-df-container\">\n",
              "    <button class=\"colab-df-convert\" onclick=\"convertToInteractive('df-100872c8-93ce-4b4c-b2e1-bd4988e9031a')\"\n",
              "            title=\"Convert this dataframe to an interactive table.\"\n",
              "            style=\"display:none;\">\n",
              "\n",
              "  <svg xmlns=\"http://www.w3.org/2000/svg\" height=\"24px\" viewBox=\"0 -960 960 960\">\n",
              "    <path d=\"M120-120v-720h720v720H120Zm60-500h600v-160H180v160Zm220 220h160v-160H400v160Zm0 220h160v-160H400v160ZM180-400h160v-160H180v160Zm440 0h160v-160H620v160ZM180-180h160v-160H180v160Zm440 0h160v-160H620v160Z\"/>\n",
              "  </svg>\n",
              "    </button>\n",
              "\n",
              "  <style>\n",
              "    .colab-df-container {\n",
              "      display:flex;\n",
              "      gap: 12px;\n",
              "    }\n",
              "\n",
              "    .colab-df-convert {\n",
              "      background-color: #E8F0FE;\n",
              "      border: none;\n",
              "      border-radius: 50%;\n",
              "      cursor: pointer;\n",
              "      display: none;\n",
              "      fill: #1967D2;\n",
              "      height: 32px;\n",
              "      padding: 0 0 0 0;\n",
              "      width: 32px;\n",
              "    }\n",
              "\n",
              "    .colab-df-convert:hover {\n",
              "      background-color: #E2EBFA;\n",
              "      box-shadow: 0px 1px 2px rgba(60, 64, 67, 0.3), 0px 1px 3px 1px rgba(60, 64, 67, 0.15);\n",
              "      fill: #174EA6;\n",
              "    }\n",
              "\n",
              "    .colab-df-buttons div {\n",
              "      margin-bottom: 4px;\n",
              "    }\n",
              "\n",
              "    [theme=dark] .colab-df-convert {\n",
              "      background-color: #3B4455;\n",
              "      fill: #D2E3FC;\n",
              "    }\n",
              "\n",
              "    [theme=dark] .colab-df-convert:hover {\n",
              "      background-color: #434B5C;\n",
              "      box-shadow: 0px 1px 3px 1px rgba(0, 0, 0, 0.15);\n",
              "      filter: drop-shadow(0px 1px 2px rgba(0, 0, 0, 0.3));\n",
              "      fill: #FFFFFF;\n",
              "    }\n",
              "  </style>\n",
              "\n",
              "    <script>\n",
              "      const buttonEl =\n",
              "        document.querySelector('#df-100872c8-93ce-4b4c-b2e1-bd4988e9031a button.colab-df-convert');\n",
              "      buttonEl.style.display =\n",
              "        google.colab.kernel.accessAllowed ? 'block' : 'none';\n",
              "\n",
              "      async function convertToInteractive(key) {\n",
              "        const element = document.querySelector('#df-100872c8-93ce-4b4c-b2e1-bd4988e9031a');\n",
              "        const dataTable =\n",
              "          await google.colab.kernel.invokeFunction('convertToInteractive',\n",
              "                                                    [key], {});\n",
              "        if (!dataTable) return;\n",
              "\n",
              "        const docLinkHtml = 'Like what you see? Visit the ' +\n",
              "          '<a target=\"_blank\" href=https://colab.research.google.com/notebooks/data_table.ipynb>data table notebook</a>'\n",
              "          + ' to learn more about interactive tables.';\n",
              "        element.innerHTML = '';\n",
              "        dataTable['output_type'] = 'display_data';\n",
              "        await google.colab.output.renderOutput(dataTable, element);\n",
              "        const docLink = document.createElement('div');\n",
              "        docLink.innerHTML = docLinkHtml;\n",
              "        element.appendChild(docLink);\n",
              "      }\n",
              "    </script>\n",
              "  </div>\n",
              "\n",
              "\n",
              "    </div>\n",
              "  </div>\n"
            ],
            "application/vnd.google.colaboratory.intrinsic+json": {
              "type": "dataframe",
              "variable_name": "df",
              "summary": "{\n  \"name\": \"df\",\n  \"rows\": 3200,\n  \"fields\": [\n    {\n      \"column\": \"Gender\",\n      \"properties\": {\n        \"dtype\": \"number\",\n        \"std\": 0,\n        \"min\": 0,\n        \"max\": 1,\n        \"num_unique_values\": 2,\n        \"samples\": [\n          1,\n          0\n        ],\n        \"semantic_type\": \"\",\n        \"description\": \"\"\n      }\n    },\n    {\n      \"column\": \"M\",\n      \"properties\": {\n        \"dtype\": \"number\",\n        \"std\": 100,\n        \"min\": 15,\n        \"max\": 475,\n        \"num_unique_values\": 437,\n        \"samples\": [\n          454,\n          311\n        ],\n        \"semantic_type\": \"\",\n        \"description\": \"\"\n      }\n    },\n    {\n      \"column\": \"R\",\n      \"properties\": {\n        \"dtype\": \"number\",\n        \"std\": 8,\n        \"min\": 2,\n        \"max\": 36,\n        \"num_unique_values\": 18,\n        \"samples\": [\n          2,\n          6\n        ],\n        \"semantic_type\": \"\",\n        \"description\": \"\"\n      }\n    },\n    {\n      \"column\": \"F\",\n      \"properties\": {\n        \"dtype\": \"number\",\n        \"std\": 3,\n        \"min\": 1,\n        \"max\": 12,\n        \"num_unique_values\": 12,\n        \"samples\": [\n          5,\n          10\n        ],\n        \"semantic_type\": \"\",\n        \"description\": \"\"\n      }\n    },\n    {\n      \"column\": \"FirstPurch\",\n      \"properties\": {\n        \"dtype\": \"number\",\n        \"std\": 18,\n        \"min\": 2,\n        \"max\": 99,\n        \"num_unique_values\": 48,\n        \"samples\": [\n          28,\n          80\n        ],\n        \"semantic_type\": \"\",\n        \"description\": \"\"\n      }\n    },\n    {\n      \"column\": \"ChildBks\",\n      \"properties\": {\n        \"dtype\": \"number\",\n        \"std\": 0,\n        \"min\": 0,\n        \"max\": 7,\n        \"num_unique_values\": 8,\n        \"samples\": [\n          1,\n          3\n        ],\n        \"semantic_type\": \"\",\n        \"description\": \"\"\n      }\n    },\n    {\n      \"column\": \"YouthBks\",\n      \"properties\": {\n        \"dtype\": \"number\",\n        \"std\": 0,\n        \"min\": 0,\n        \"max\": 5,\n        \"num_unique_values\": 6,\n        \"samples\": [\n          0,\n          1\n        ],\n        \"semantic_type\": \"\",\n        \"description\": \"\"\n      }\n    },\n    {\n      \"column\": \"CookBks\",\n      \"properties\": {\n        \"dtype\": \"number\",\n        \"std\": 1,\n        \"min\": 0,\n        \"max\": 7,\n        \"num_unique_values\": 8,\n        \"samples\": [\n          1,\n          5\n        ],\n        \"semantic_type\": \"\",\n        \"description\": \"\"\n      }\n    },\n    {\n      \"column\": \"DoItYBks\",\n      \"properties\": {\n        \"dtype\": \"number\",\n        \"std\": 0,\n        \"min\": 0,\n        \"max\": 5,\n        \"num_unique_values\": 6,\n        \"samples\": [\n          0,\n          1\n        ],\n        \"semantic_type\": \"\",\n        \"description\": \"\"\n      }\n    },\n    {\n      \"column\": \"RefBks\",\n      \"properties\": {\n        \"dtype\": \"number\",\n        \"std\": 0,\n        \"min\": 0,\n        \"max\": 4,\n        \"num_unique_values\": 5,\n        \"samples\": [\n          1,\n          4\n        ],\n        \"semantic_type\": \"\",\n        \"description\": \"\"\n      }\n    },\n    {\n      \"column\": \"ArtBks\",\n      \"properties\": {\n        \"dtype\": \"number\",\n        \"std\": 0,\n        \"min\": 0,\n        \"max\": 4,\n        \"num_unique_values\": 5,\n        \"samples\": [\n          1,\n          4\n        ],\n        \"semantic_type\": \"\",\n        \"description\": \"\"\n      }\n    },\n    {\n      \"column\": \"GeogBks\",\n      \"properties\": {\n        \"dtype\": \"number\",\n        \"std\": 0,\n        \"min\": 0,\n        \"max\": 6,\n        \"num_unique_values\": 7,\n        \"samples\": [\n          0,\n          2\n        ],\n        \"semantic_type\": \"\",\n        \"description\": \"\"\n      }\n    },\n    {\n      \"column\": \"ItalCook\",\n      \"properties\": {\n        \"dtype\": \"number\",\n        \"std\": 0,\n        \"min\": 0,\n        \"max\": 3,\n        \"num_unique_values\": 4,\n        \"samples\": [\n          1,\n          3\n        ],\n        \"semantic_type\": \"\",\n        \"description\": \"\"\n      }\n    },\n    {\n      \"column\": \"ItalAtlas\",\n      \"properties\": {\n        \"dtype\": \"number\",\n        \"std\": 0,\n        \"min\": 0,\n        \"max\": 2,\n        \"num_unique_values\": 3,\n        \"samples\": [\n          0,\n          1\n        ],\n        \"semantic_type\": \"\",\n        \"description\": \"\"\n      }\n    },\n    {\n      \"column\": \"ItalArt\",\n      \"properties\": {\n        \"dtype\": \"number\",\n        \"std\": 0,\n        \"min\": 0,\n        \"max\": 2,\n        \"num_unique_values\": 3,\n        \"samples\": [\n          0,\n          1\n        ],\n        \"semantic_type\": \"\",\n        \"description\": \"\"\n      }\n    },\n    {\n      \"column\": \"Florence\",\n      \"properties\": {\n        \"dtype\": \"number\",\n        \"std\": 0,\n        \"min\": 0,\n        \"max\": 1,\n        \"num_unique_values\": 2,\n        \"samples\": [\n          0,\n          1\n        ],\n        \"semantic_type\": \"\",\n        \"description\": \"\"\n      }\n    }\n  ]\n}"
            }
          },
          "metadata": {},
          "execution_count": 207
        }
      ]
    },
    {
      "cell_type": "code",
      "source": [
        "# Explore columns 'M' thru 'FirstPurch'.\n",
        "# df['M'].value_counts()\n",
        "# df['R'].value_counts()\n",
        "df['F'].value_counts()\n",
        "# df['FirstPurch'].value_counts()\n",
        "\n",
        "# Conclusion: these three columns are not one-hot-encoded."
      ],
      "metadata": {
        "colab": {
          "base_uri": "https://localhost:8080/",
          "height": 486
        },
        "id": "sTHMMyJUXaZk",
        "outputId": "54fbba6c-c321-48a7-ea9a-25f13f985e02"
      },
      "execution_count": 208,
      "outputs": [
        {
          "output_type": "execute_result",
          "data": {
            "text/plain": [
              "F\n",
              "1     998\n",
              "2     971\n",
              "3     152\n",
              "7     135\n",
              "8     133\n",
              "11    129\n",
              "4     124\n",
              "10    123\n",
              "12    121\n",
              "5     108\n",
              "9     106\n",
              "6     100\n",
              "Name: count, dtype: int64"
            ],
            "text/html": [
              "<div>\n",
              "<style scoped>\n",
              "    .dataframe tbody tr th:only-of-type {\n",
              "        vertical-align: middle;\n",
              "    }\n",
              "\n",
              "    .dataframe tbody tr th {\n",
              "        vertical-align: top;\n",
              "    }\n",
              "\n",
              "    .dataframe thead th {\n",
              "        text-align: right;\n",
              "    }\n",
              "</style>\n",
              "<table border=\"1\" class=\"dataframe\">\n",
              "  <thead>\n",
              "    <tr style=\"text-align: right;\">\n",
              "      <th></th>\n",
              "      <th>count</th>\n",
              "    </tr>\n",
              "    <tr>\n",
              "      <th>F</th>\n",
              "      <th></th>\n",
              "    </tr>\n",
              "  </thead>\n",
              "  <tbody>\n",
              "    <tr>\n",
              "      <th>1</th>\n",
              "      <td>998</td>\n",
              "    </tr>\n",
              "    <tr>\n",
              "      <th>2</th>\n",
              "      <td>971</td>\n",
              "    </tr>\n",
              "    <tr>\n",
              "      <th>3</th>\n",
              "      <td>152</td>\n",
              "    </tr>\n",
              "    <tr>\n",
              "      <th>7</th>\n",
              "      <td>135</td>\n",
              "    </tr>\n",
              "    <tr>\n",
              "      <th>8</th>\n",
              "      <td>133</td>\n",
              "    </tr>\n",
              "    <tr>\n",
              "      <th>11</th>\n",
              "      <td>129</td>\n",
              "    </tr>\n",
              "    <tr>\n",
              "      <th>4</th>\n",
              "      <td>124</td>\n",
              "    </tr>\n",
              "    <tr>\n",
              "      <th>10</th>\n",
              "      <td>123</td>\n",
              "    </tr>\n",
              "    <tr>\n",
              "      <th>12</th>\n",
              "      <td>121</td>\n",
              "    </tr>\n",
              "    <tr>\n",
              "      <th>5</th>\n",
              "      <td>108</td>\n",
              "    </tr>\n",
              "    <tr>\n",
              "      <th>9</th>\n",
              "      <td>106</td>\n",
              "    </tr>\n",
              "    <tr>\n",
              "      <th>6</th>\n",
              "      <td>100</td>\n",
              "    </tr>\n",
              "  </tbody>\n",
              "</table>\n",
              "</div><br><label><b>dtype:</b> int64</label>"
            ]
          },
          "metadata": {},
          "execution_count": 208
        }
      ]
    },
    {
      "cell_type": "code",
      "source": [
        "import matplotlib.pyplot as plt\n",
        "import seaborn as sns\n",
        "\n",
        "fig, axs = plt.subplots(2, 2, figsize=(12, 10))\n",
        "\n",
        "bin_edges = pd.cut(df['M'], bins=20)\n",
        "\n",
        "sns.countplot(x=bin_edges, ax=axs[0, 0])\n",
        "# sns.countplot(x='M', data=df, ax=axs[0, 0])\n",
        "axs[0, 0].set_title('M = total money spent on books [binned]')\n",
        "axs[0, 0].set_xticklabels([])\n",
        "\n",
        "sns.countplot(x='R', data=df, ax=axs[0, 1])\n",
        "axs[0, 1].set_title('R = Recency: months since last purchase')\n",
        "\n",
        "sns.countplot(x='F', data=df, ax=axs[1, 0])\n",
        "axs[1, 0].set_title('F = Frequency: total number of purchases')\n",
        "\n",
        "sns.countplot(x='FirstPurch', data=df, ax=axs[1, 1])\n",
        "axs[1, 1].set_title('FirstPurch = months since first purchase')\n",
        "axs[1, 1].set_xticks(axs[1, 1].get_xticks()[::2])\n",
        "\n",
        "plt.tight_layout()\n",
        "plt.show()"
      ],
      "metadata": {
        "colab": {
          "base_uri": "https://localhost:8080/",
          "height": 862
        },
        "id": "pFOSSVBFYYX9",
        "outputId": "36b5cc77-d41a-4e44-a7e8-9716797773a8"
      },
      "execution_count": 209,
      "outputs": [
        {
          "output_type": "display_data",
          "data": {
            "text/plain": [
              "<Figure size 1200x1000 with 4 Axes>"
            ],
            "image/png": "[encoded data removed]"
          },
          "metadata": {}
        }
      ]
    },
    {
      "cell_type": "markdown",
      "source": [
        "These 4 columns all have interesting distributions. With the exception of 'FirstPurch', none of them looke much like any standard statistical distribution.\n",
        "\n",
        "'R' and 'FirstPurch' are mostly telling us about the waxing/waning popularity of the store. The both seem to indicate a general decline in popularity starting about 10 months ago.\n",
        "\n",
        "'FirstPurch' shows that the store peaked in popularity (in terms of new customers) during the period spanning roughly 10-22 months ago.\n"
      ],
      "metadata": {
        "id": "Zr1unRrlZ6Ir"
      }
    },
    {
      "cell_type": "code",
      "source": [
        "# Outliers.\n",
        "\n",
        "# Box and whisker plots:\n",
        "fig, axs = plt.subplots(2, 2, figsize=(12, 10))\n",
        "\n",
        "sns.boxplot(x=df['M'], ax=axs[0, 0])\n",
        "axs[0, 0].set_title('Boxplot for M')\n",
        "\n",
        "sns.boxplot(x=df['R'], ax=axs[0, 1])\n",
        "axs[0, 1].set_title('Boxplot for R')\n",
        "\n",
        "sns.boxplot(x=df['F'], ax=axs[1, 0])\n",
        "axs[1, 0].set_title('Boxplot for F')\n",
        "\n",
        "sns.boxplot(x=df['FirstPurch'], ax=axs[1, 1])\n",
        "axs[1, 1].set_title('Boxplot for FirstPurch')\n",
        "\n",
        "plt.tight_layout()\n",
        "plt.show()"
      ],
      "metadata": {
        "colab": {
          "base_uri": "https://localhost:8080/",
          "height": 862
        },
        "id": "YKP3P2nDfESq",
        "outputId": "6db26a77-ec80-4163-e000-1038e71e2fc8"
      },
      "execution_count": 210,
      "outputs": [
        {
          "output_type": "display_data",
          "data": {
            "text/plain": [
              "<Figure size 1200x1000 with 4 Axes>"
            ],
            "image/png": "[encoded data removed]"
          },
          "metadata": {}
        }
      ]
    },
    {
      "cell_type": "markdown",
      "source": [
        "These plots indicate no outliers for 'M' and 'F', and several outliers for 'R' and 'FirstPurch'. These outliers are simply customers from the earliest days.\n",
        "\n",
        "One unusual thing we notice is that the earliest customers in 'FirstPurch' datae back to ~100 months ago, but the earliest customers in 'R' date back to only ~36 months ago."
      ],
      "metadata": {
        "id": "h275nbCAfhMJ"
      }
    },
    {
      "cell_type": "code",
      "source": [
        "# Print complete record (all columns) of the the customers with 'R' more than 35:\n",
        "view_01 = df.query('R > 35')\n",
        "view_02 = view_01.sort_values(by='FirstPurch', ascending=False)\n",
        "view_02[:10]\n",
        "\n",
        "# Observation: there are zero customers who bought their last book more than 36\n",
        "#  months ago, even among the 10+ customers who bought their first book more\n",
        "#  than 60 months ago.\n",
        "\n",
        "# Conclusion: there is some gap or error in the record-keeping or\n",
        "#  record-keeping system, such that any 'R' greater than 36 is\n",
        "#  not properly recorded.\n",
        "# The number of records with 'R' = 36 is not extra large, so its unlikely\n",
        "#  that their 'R' was simply rounded down to 36."
      ],
      "metadata": {
        "colab": {
          "base_uri": "https://localhost:8080/",
          "height": 379
        },
        "id": "bQlufbQWgd7B",
        "outputId": "38092e2a-7f9d-4dbb-9d30-7e4178ffb406"
      },
      "execution_count": 211,
      "outputs": [
        {
          "output_type": "execute_result",
          "data": {
            "text/plain": [
              "      Gender    M   R   F  FirstPurch  ChildBks  YouthBks  CookBks  DoItYBks  \\\n",
              "2865       1  281  36  11          92         3         0        2         1   \n",
              "573        1  271  36   8          82         1         1        4         0   \n",
              "1652       1  287  36   8          76         2         0        2         0   \n",
              "2591       0  399  36   7          74         0         0        2         1   \n",
              "3040       1  162  36   6          66         1         0        1         1   \n",
              "2408       0  374  36  11          66         3         1        2         1   \n",
              "2760       0  214  36   7          64         1         0        3         2   \n",
              "2856       0   75  36   5          64         1         0        2         0   \n",
              "2627       0  393  36  12          64         1         3        2         3   \n",
              "1214       0  368  36   5          62         1         2        1         0   \n",
              "\n",
              "      RefBks  ArtBks  GeogBks  ItalCook  ItalAtlas  ItalArt  Florence  \n",
              "2865       1       1        3         0          0        0         0  \n",
              "573        1       0        0         0          0        0         0  \n",
              "1652       0       0        0         1          0        0         0  \n",
              "2591       1       0        0         0          0        0         0  \n",
              "3040       1       0        0         0          0        0         0  \n",
              "2408       2       0        2         0          0        0         0  \n",
              "2760       0       0        0         0          1        0         0  \n",
              "2856       0       0        1         0          0        0         0  \n",
              "2627       0       2        1         0          0        0         1  \n",
              "1214       1       0        2         0          0        0         0  "
            ],
            "text/html": [
              "\n",
              "  <div id=\"df-7ca5a8b9-b999-4cfe-9a6c-405a389c8fe0\" class=\"colab-df-container\">\n",
              "    <div>\n",
              "<style scoped>\n",
              "    .dataframe tbody tr th:only-of-type {\n",
              "        vertical-align: middle;\n",
              "    }\n",
              "\n",
              "    .dataframe tbody tr th {\n",
              "        vertical-align: top;\n",
              "    }\n",
              "\n",
              "    .dataframe thead th {\n",
              "        text-align: right;\n",
              "    }\n",
              "</style>\n",
              "<table border=\"1\" class=\"dataframe\">\n",
              "  <thead>\n",
              "    <tr style=\"text-align: right;\">\n",
              "      <th></th>\n",
              "      <th>Gender</th>\n",
              "      <th>M</th>\n",
              "      <th>R</th>\n",
              "      <th>F</th>\n",
              "      <th>FirstPurch</th>\n",
              "      <th>ChildBks</th>\n",
              "      <th>YouthBks</th>\n",
              "      <th>CookBks</th>\n",
              "      <th>DoItYBks</th>\n",
              "      <th>RefBks</th>\n",
              "      <th>ArtBks</th>\n",
              "      <th>GeogBks</th>\n",
              "      <th>ItalCook</th>\n",
              "      <th>ItalAtlas</th>\n",
              "      <th>ItalArt</th>\n",
              "      <th>Florence</th>\n",
              "    </tr>\n",
              "  </thead>\n",
              "  <tbody>\n",
              "    <tr>\n",
              "      <th>2865</th>\n",
              "      <td>1</td>\n",
              "      <td>281</td>\n",
              "      <td>36</td>\n",
              "      <td>11</td>\n",
              "      <td>92</td>\n",
              "      <td>3</td>\n",
              "      <td>0</td>\n",
              "      <td>2</td>\n",
              "      <td>1</td>\n",
              "      <td>1</td>\n",
              "      <td>1</td>\n",
              "      <td>3</td>\n",
              "      <td>0</td>\n",
              "      <td>0</td>\n",
              "      <td>0</td>\n",
              "      <td>0</td>\n",
              "    </tr>\n",
              "    <tr>\n",
              "      <th>573</th>\n",
              "      <td>1</td>\n",
              "      <td>271</td>\n",
              "      <td>36</td>\n",
              "      <td>8</td>\n",
              "      <td>82</td>\n",
              "      <td>1</td>\n",
              "      <td>1</td>\n",
              "      <td>4</td>\n",
              "      <td>0</td>\n",
              "      <td>1</td>\n",
              "      <td>0</td>\n",
              "      <td>0</td>\n",
              "      <td>0</td>\n",
              "      <td>0</td>\n",
              "      <td>0</td>\n",
              "      <td>0</td>\n",
              "    </tr>\n",
              "    <tr>\n",
              "      <th>1652</th>\n",
              "      <td>1</td>\n",
              "      <td>287</td>\n",
              "      <td>36</td>\n",
              "      <td>8</td>\n",
              "      <td>76</td>\n",
              "      <td>2</td>\n",
              "      <td>0</td>\n",
              "      <td>2</td>\n",
              "      <td>0</td>\n",
              "      <td>0</td>\n",
              "      <td>0</td>\n",
              "      <td>0</td>\n",
              "      <td>1</td>\n",
              "      <td>0</td>\n",
              "      <td>0</td>\n",
              "      <td>0</td>\n",
              "    </tr>\n",
              "    <tr>\n",
              "      <th>2591</th>\n",
              "      <td>0</td>\n",
              "      <td>399</td>\n",
              "      <td>36</td>\n",
              "      <td>7</td>\n",
              "      <td>74</td>\n",
              "      <td>0</td>\n",
              "      <td>0</td>\n",
              "      <td>2</td>\n",
              "      <td>1</td>\n",
              "      <td>1</td>\n",
              "      <td>0</td>\n",
              "      <td>0</td>\n",
              "      <td>0</td>\n",
              "      <td>0</td>\n",
              "      <td>0</td>\n",
              "      <td>0</td>\n",
              "    </tr>\n",
              "    <tr>\n",
              "      <th>3040</th>\n",
              "      <td>1</td>\n",
              "      <td>162</td>\n",
              "      <td>36</td>\n",
              "      <td>6</td>\n",
              "      <td>66</td>\n",
              "      <td>1</td>\n",
              "      <td>0</td>\n",
              "      <td>1</td>\n",
              "      <td>1</td>\n",
              "      <td>1</td>\n",
              "      <td>0</td>\n",
              "      <td>0</td>\n",
              "      <td>0</td>\n",
              "      <td>0</td>\n",
              "      <td>0</td>\n",
              "      <td>0</td>\n",
              "    </tr>\n",
              "    <tr>\n",
              "      <th>2408</th>\n",
              "      <td>0</td>\n",
              "      <td>374</td>\n",
              "      <td>36</td>\n",
              "      <td>11</td>\n",
              "      <td>66</td>\n",
              "      <td>3</td>\n",
              "      <td>1</td>\n",
              "      <td>2</td>\n",
              "      <td>1</td>\n",
              "      <td>2</td>\n",
              "      <td>0</td>\n",
              "      <td>2</td>\n",
              "      <td>0</td>\n",
              "      <td>0</td>\n",
              "      <td>0</td>\n",
              "      <td>0</td>\n",
              "    </tr>\n",
              "    <tr>\n",
              "      <th>2760</th>\n",
              "      <td>0</td>\n",
              "      <td>214</td>\n",
              "      <td>36</td>\n",
              "      <td>7</td>\n",
              "      <td>64</td>\n",
              "      <td>1</td>\n",
              "      <td>0</td>\n",
              "      <td>3</td>\n",
              "      <td>2</td>\n",
              "      <td>0</td>\n",
              "      <td>0</td>\n",
              "      <td>0</td>\n",
              "      <td>0</td>\n",
              "      <td>1</td>\n",
              "      <td>0</td>\n",
              "      <td>0</td>\n",
              "    </tr>\n",
              "    <tr>\n",
              "      <th>2856</th>\n",
              "      <td>0</td>\n",
              "      <td>75</td>\n",
              "      <td>36</td>\n",
              "      <td>5</td>\n",
              "      <td>64</td>\n",
              "      <td>1</td>\n",
              "      <td>0</td>\n",
              "      <td>2</td>\n",
              "      <td>0</td>\n",
              "      <td>0</td>\n",
              "      <td>0</td>\n",
              "      <td>1</td>\n",
              "      <td>0</td>\n",
              "      <td>0</td>\n",
              "      <td>0</td>\n",
              "      <td>0</td>\n",
              "    </tr>\n",
              "    <tr>\n",
              "      <th>2627</th>\n",
              "      <td>0</td>\n",
              "      <td>393</td>\n",
              "      <td>36</td>\n",
              "      <td>12</td>\n",
              "      <td>64</td>\n",
              "      <td>1</td>\n",
              "      <td>3</td>\n",
              "      <td>2</td>\n",
              "      <td>3</td>\n",
              "      <td>0</td>\n",
              "      <td>2</td>\n",
              "      <td>1</td>\n",
              "      <td>0</td>\n",
              "      <td>0</td>\n",
              "      <td>0</td>\n",
              "      <td>1</td>\n",
              "    </tr>\n",
              "    <tr>\n",
              "      <th>1214</th>\n",
              "      <td>0</td>\n",
              "      <td>368</td>\n",
              "      <td>36</td>\n",
              "      <td>5</td>\n",
              "      <td>62</td>\n",
              "      <td>1</td>\n",
              "      <td>2</td>\n",
              "      <td>1</td>\n",
              "      <td>0</td>\n",
              "      <td>1</td>\n",
              "      <td>0</td>\n",
              "      <td>2</td>\n",
              "      <td>0</td>\n",
              "      <td>0</td>\n",
              "      <td>0</td>\n",
              "      <td>0</td>\n",
              "    </tr>\n",
              "  </tbody>\n",
              "</table>\n",
              "</div>\n",
              "    <div class=\"colab-df-buttons\">\n",
              "\n",
              "  <div class=\"colab-df-container\">\n",
              "    <button class=\"colab-df-convert\" onclick=\"convertToInteractive('df-7ca5a8b9-b999-4cfe-9a6c-405a389c8fe0')\"\n",
              "            title=\"Convert this dataframe to an interactive table.\"\n",
              "            style=\"display:none;\">\n",
              "\n",
              "  <svg xmlns=\"http://www.w3.org/2000/svg\" height=\"24px\" viewBox=\"0 -960 960 960\">\n",
              "    <path d=\"M120-120v-720h720v720H120Zm60-500h600v-160H180v160Zm220 220h160v-160H400v160Zm0 220h160v-160H400v160ZM180-400h160v-160H180v160Zm440 0h160v-160H620v160ZM180-180h160v-160H180v160Zm440 0h160v-160H620v160Z\"/>\n",
              "  </svg>\n",
              "    </button>\n",
              "\n",
              "  <style>\n",
              "    .colab-df-container {\n",
              "      display:flex;\n",
              "      gap: 12px;\n",
              "    }\n",
              "\n",
              "    .colab-df-convert {\n",
              "      background-color: #E8F0FE;\n",
              "      border: none;\n",
              "      border-radius: 50%;\n",
              "      cursor: pointer;\n",
              "      display: none;\n",
              "      fill: #1967D2;\n",
              "      height: 32px;\n",
              "      padding: 0 0 0 0;\n",
              "      width: 32px;\n",
              "    }\n",
              "\n",
              "    .colab-df-convert:hover {\n",
              "      background-color: #E2EBFA;\n",
              "      box-shadow: 0px 1px 2px rgba(60, 64, 67, 0.3), 0px 1px 3px 1px rgba(60, 64, 67, 0.15);\n",
              "      fill: #174EA6;\n",
              "    }\n",
              "\n",
              "    .colab-df-buttons div {\n",
              "      margin-bottom: 4px;\n",
              "    }\n",
              "\n",
              "    [theme=dark] .colab-df-convert {\n",
              "      background-color: #3B4455;\n",
              "      fill: #D2E3FC;\n",
              "    }\n",
              "\n",
              "    [theme=dark] .colab-df-convert:hover {\n",
              "      background-color: #434B5C;\n",
              "      box-shadow: 0px 1px 3px 1px rgba(0, 0, 0, 0.15);\n",
              "      filter: drop-shadow(0px 1px 2px rgba(0, 0, 0, 0.3));\n",
              "      fill: #FFFFFF;\n",
              "    }\n",
              "  </style>\n",
              "\n",
              "    <script>\n",
              "      const buttonEl =\n",
              "        document.querySelector('#df-7ca5a8b9-b999-4cfe-9a6c-405a389c8fe0 button.colab-df-convert');\n",
              "      buttonEl.style.display =\n",
              "        google.colab.kernel.accessAllowed ? 'block' : 'none';\n",
              "\n",
              "      async function convertToInteractive(key) {\n",
              "        const element = document.querySelector('#df-7ca5a8b9-b999-4cfe-9a6c-405a389c8fe0');\n",
              "        const dataTable =\n",
              "          await google.colab.kernel.invokeFunction('convertToInteractive',\n",
              "                                                    [key], {});\n",
              "        if (!dataTable) return;\n",
              "\n",
              "        const docLinkHtml = 'Like what you see? Visit the ' +\n",
              "          '<a target=\"_blank\" href=https://colab.research.google.com/notebooks/data_table.ipynb>data table notebook</a>'\n",
              "          + ' to learn more about interactive tables.';\n",
              "        element.innerHTML = '';\n",
              "        dataTable['output_type'] = 'display_data';\n",
              "        await google.colab.output.renderOutput(dataTable, element);\n",
              "        const docLink = document.createElement('div');\n",
              "        docLink.innerHTML = docLinkHtml;\n",
              "        element.appendChild(docLink);\n",
              "      }\n",
              "    </script>\n",
              "  </div>\n",
              "\n",
              "\n",
              "<div id=\"df-278cec01-6d25-4cb5-82b3-f3847648eaa1\">\n",
              "  <button class=\"colab-df-quickchart\" onclick=\"quickchart('df-278cec01-6d25-4cb5-82b3-f3847648eaa1')\"\n",
              "            title=\"Suggest charts\"\n",
              "            style=\"display:none;\">\n",
              "\n",
              "<svg xmlns=\"http://www.w3.org/2000/svg\" height=\"24px\"viewBox=\"0 0 24 24\"\n",
              "     width=\"24px\">\n",
              "    <g>\n",
              "        <path d=\"M19 3H5c-1.1 0-2 .9-2 2v14c0 1.1.9 2 2 2h14c1.1 0 2-.9 2-2V5c0-1.1-.9-2-2-2zM9 17H7v-7h2v7zm4 0h-2V7h2v10zm4 0h-2v-4h2v4z\"/>\n",
              "    </g>\n",
              "</svg>\n",
              "  </button>\n",
              "\n",
              "<style>\n",
              "  .colab-df-quickchart {\n",
              "      --bg-color: #E8F0FE;\n",
              "      --fill-color: #1967D2;\n",
              "      --hover-bg-color: #E2EBFA;\n",
              "      --hover-fill-color: #174EA6;\n",
              "      --disabled-fill-color: #AAA;\n",
              "      --disabled-bg-color: #DDD;\n",
              "  }\n",
              "\n",
              "  [theme=dark] .colab-df-quickchart {\n",
              "      --bg-color: #3B4455;\n",
              "      --fill-color: #D2E3FC;\n",
              "      --hover-bg-color: #434B5C;\n",
              "      --hover-fill-color: #FFFFFF;\n",
              "      --disabled-bg-color: #3B4455;\n",
              "      --disabled-fill-color: #666;\n",
              "  }\n",
              "\n",
              "  .colab-df-quickchart {\n",
              "    background-color: var(--bg-color);\n",
              "    border: none;\n",
              "    border-radius: 50%;\n",
              "    cursor: pointer;\n",
              "    display: none;\n",
              "    fill: var(--fill-color);\n",
              "    height: 32px;\n",
              "    padding: 0;\n",
              "    width: 32px;\n",
              "  }\n",
              "\n",
              "  .colab-df-quickchart:hover {\n",
              "    background-color: var(--hover-bg-color);\n",
              "    box-shadow: 0 1px 2px rgba(60, 64, 67, 0.3), 0 1px 3px 1px rgba(60, 64, 67, 0.15);\n",
              "    fill: var(--button-hover-fill-color);\n",
              "  }\n",
              "\n",
              "  .colab-df-quickchart-complete:disabled,\n",
              "  .colab-df-quickchart-complete:disabled:hover {\n",
              "    background-color: var(--disabled-bg-color);\n",
              "    fill: var(--disabled-fill-color);\n",
              "    box-shadow: none;\n",
              "  }\n",
              "\n",
              "  .colab-df-spinner {\n",
              "    border: 2px solid var(--fill-color);\n",
              "    border-color: transparent;\n",
              "    border-bottom-color: var(--fill-color);\n",
              "    animation:\n",
              "      spin 1s steps(1) infinite;\n",
              "  }\n",
              "\n",
              "  @keyframes spin {\n",
              "    0% {\n",
              "      border-color: transparent;\n",
              "      border-bottom-color: var(--fill-color);\n",
              "      border-left-color: var(--fill-color);\n",
              "    }\n",
              "    20% {\n",
              "      border-color: transparent;\n",
              "      border-left-color: var(--fill-color);\n",
              "      border-top-color: var(--fill-color);\n",
              "    }\n",
              "    30% {\n",
              "      border-color: transparent;\n",
              "      border-left-color: var(--fill-color);\n",
              "      border-top-color: var(--fill-color);\n",
              "      border-right-color: var(--fill-color);\n",
              "    }\n",
              "    40% {\n",
              "      border-color: transparent;\n",
              "      border-right-color: var(--fill-color);\n",
              "      border-top-color: var(--fill-color);\n",
              "    }\n",
              "    60% {\n",
              "      border-color: transparent;\n",
              "      border-right-color: var(--fill-color);\n",
              "    }\n",
              "    80% {\n",
              "      border-color: transparent;\n",
              "      border-right-color: var(--fill-color);\n",
              "      border-bottom-color: var(--fill-color);\n",
              "    }\n",
              "    90% {\n",
              "      border-color: transparent;\n",
              "      border-bottom-color: var(--fill-color);\n",
              "    }\n",
              "  }\n",
              "</style>\n",
              "\n",
              "  <script>\n",
              "    async function quickchart(key) {\n",
              "      const quickchartButtonEl =\n",
              "        document.querySelector('#' + key + ' button');\n",
              "      quickchartButtonEl.disabled = true;  // To prevent multiple clicks.\n",
              "      quickchartButtonEl.classList.add('colab-df-spinner');\n",
              "      try {\n",
              "        const charts = await google.colab.kernel.invokeFunction(\n",
              "            'suggestCharts', [key], {});\n",
              "      } catch (error) {\n",
              "        console.error('Error during call to suggestCharts:', error);\n",
              "      }\n",
              "      quickchartButtonEl.classList.remove('colab-df-spinner');\n",
              "      quickchartButtonEl.classList.add('colab-df-quickchart-complete');\n",
              "    }\n",
              "    (() => {\n",
              "      let quickchartButtonEl =\n",
              "        document.querySelector('#df-278cec01-6d25-4cb5-82b3-f3847648eaa1 button');\n",
              "      quickchartButtonEl.style.display =\n",
              "        google.colab.kernel.accessAllowed ? 'block' : 'none';\n",
              "    })();\n",
              "  </script>\n",
              "</div>\n",
              "\n",
              "    </div>\n",
              "  </div>\n"
            ],
            "application/vnd.google.colaboratory.intrinsic+json": {
              "type": "dataframe",
              "summary": "{\n  \"name\": \"#  that their 'R' was simply rounded down to 36\",\n  \"rows\": 10,\n  \"fields\": [\n    {\n      \"column\": \"Gender\",\n      \"properties\": {\n        \"dtype\": \"number\",\n        \"std\": 0,\n        \"min\": 0,\n        \"max\": 1,\n        \"num_unique_values\": 2,\n        \"samples\": [\n          0,\n          1\n        ],\n        \"semantic_type\": \"\",\n        \"description\": \"\"\n      }\n    },\n    {\n      \"column\": \"M\",\n      \"properties\": {\n        \"dtype\": \"number\",\n        \"std\": 107,\n        \"min\": 75,\n        \"max\": 399,\n        \"num_unique_values\": 10,\n        \"samples\": [\n          393,\n          271\n        ],\n        \"semantic_type\": \"\",\n        \"description\": \"\"\n      }\n    },\n    {\n      \"column\": \"R\",\n      \"properties\": {\n        \"dtype\": \"number\",\n        \"std\": 0,\n        \"min\": 36,\n        \"max\": 36,\n        \"num_unique_values\": 1,\n        \"samples\": [\n          36\n        ],\n        \"semantic_type\": \"\",\n        \"description\": \"\"\n      }\n    },\n    {\n      \"column\": \"F\",\n      \"properties\": {\n        \"dtype\": \"number\",\n        \"std\": 2,\n        \"min\": 5,\n        \"max\": 12,\n        \"num_unique_values\": 6,\n        \"samples\": [\n          11\n        ],\n        \"semantic_type\": \"\",\n        \"description\": \"\"\n      }\n    },\n    {\n      \"column\": \"FirstPurch\",\n      \"properties\": {\n        \"dtype\": \"number\",\n        \"std\": 9,\n        \"min\": 62,\n        \"max\": 92,\n        \"num_unique_values\": 7,\n        \"samples\": [\n          92\n        ],\n        \"semantic_type\": \"\",\n        \"description\": \"\"\n      }\n    },\n    {\n      \"column\": \"ChildBks\",\n      \"properties\": {\n        \"dtype\": \"number\",\n        \"std\": 0,\n        \"min\": 0,\n        \"max\": 3,\n        \"num_unique_values\": 4,\n        \"samples\": [\n          1\n        ],\n        \"semantic_type\": \"\",\n        \"description\": \"\"\n      }\n    },\n    {\n      \"column\": \"YouthBks\",\n      \"properties\": {\n        \"dtype\": \"number\",\n        \"std\": 1,\n        \"min\": 0,\n        \"max\": 3,\n        \"num_unique_values\": 4,\n        \"samples\": [\n          1\n        ],\n        \"semantic_type\": \"\",\n        \"description\": \"\"\n      }\n    },\n    {\n      \"column\": \"CookBks\",\n      \"properties\": {\n        \"dtype\": \"number\",\n        \"std\": 0,\n        \"min\": 1,\n        \"max\": 4,\n        \"num_unique_values\": 4,\n        \"samples\": [\n          4\n        ],\n        \"semantic_type\": \"\",\n        \"description\": \"\"\n      }\n    },\n    {\n      \"column\": \"DoItYBks\",\n      \"properties\": {\n        \"dtype\": \"number\",\n        \"std\": 0,\n        \"min\": 0,\n        \"max\": 3,\n        \"num_unique_values\": 4,\n        \"samples\": [\n          0\n        ],\n        \"semantic_type\": \"\",\n        \"description\": \"\"\n      }\n    },\n    {\n      \"column\": \"RefBks\",\n      \"properties\": {\n        \"dtype\": \"number\",\n        \"std\": 0,\n        \"min\": 0,\n        \"max\": 2,\n        \"num_unique_values\": 3,\n        \"samples\": [\n          1\n        ],\n        \"semantic_type\": \"\",\n        \"description\": \"\"\n      }\n    },\n    {\n      \"column\": \"ArtBks\",\n      \"properties\": {\n        \"dtype\": \"number\",\n        \"std\": 0,\n        \"min\": 0,\n        \"max\": 2,\n        \"num_unique_values\": 3,\n        \"samples\": [\n          1\n        ],\n        \"semantic_type\": \"\",\n        \"description\": \"\"\n      }\n    },\n    {\n      \"column\": \"GeogBks\",\n      \"properties\": {\n        \"dtype\": \"number\",\n        \"std\": 1,\n        \"min\": 0,\n        \"max\": 3,\n        \"num_unique_values\": 4,\n        \"samples\": [\n          0\n        ],\n        \"semantic_type\": \"\",\n        \"description\": \"\"\n      }\n    },\n    {\n      \"column\": \"ItalCook\",\n      \"properties\": {\n        \"dtype\": \"number\",\n        \"std\": 0,\n        \"min\": 0,\n        \"max\": 1,\n        \"num_unique_values\": 2,\n        \"samples\": [\n          1\n        ],\n        \"semantic_type\": \"\",\n        \"description\": \"\"\n      }\n    },\n    {\n      \"column\": \"ItalAtlas\",\n      \"properties\": {\n        \"dtype\": \"number\",\n        \"std\": 0,\n        \"min\": 0,\n        \"max\": 1,\n        \"num_unique_values\": 2,\n        \"samples\": [\n          1\n        ],\n        \"semantic_type\": \"\",\n        \"description\": \"\"\n      }\n    },\n    {\n      \"column\": \"ItalArt\",\n      \"properties\": {\n        \"dtype\": \"number\",\n        \"std\": 0,\n        \"min\": 0,\n        \"max\": 0,\n        \"num_unique_values\": 1,\n        \"samples\": [\n          0\n        ],\n        \"semantic_type\": \"\",\n        \"description\": \"\"\n      }\n    },\n    {\n      \"column\": \"Florence\",\n      \"properties\": {\n        \"dtype\": \"number\",\n        \"std\": 0,\n        \"min\": 0,\n        \"max\": 1,\n        \"num_unique_values\": 2,\n        \"samples\": [\n          1\n        ],\n        \"semantic_type\": \"\",\n        \"description\": \"\"\n      }\n    }\n  ]\n}"
            }
          },
          "metadata": {},
          "execution_count": 211
        }
      ]
    },
    {
      "cell_type": "code",
      "source": [
        "# Examine 'R' among early customers:\n",
        "view_03 = df.query('FirstPurch > 36')\n",
        "# view_04 = view_03.sort_values(by='R', ascending=True)\n",
        "# view_04[:20]\n",
        "\n",
        "view_05 = view_03['R'].value_counts()\n",
        "view_05.sort_index(ascending=True)\n",
        "\n",
        "view_06 = df.query('FirstPurch <= 36')\n",
        "\n",
        "# Graph:\n",
        "fig, axs = plt.subplots(1, 1, figsize=(10, 4))\n",
        "\n",
        "sns.countplot(x='R', data=view_03, ax=axs, color='blue', alpha=0.6, label='earliest customers')\n",
        "sns.countplot(x='R', data=view_06, ax=axs, color='orange', alpha=0.6, label='newer customers')\n",
        "\n",
        "axs.set_title('R = Recency: months since last purchase - customers whose FirstPurch <= or > 36')\n",
        "\n",
        "plt.show()"
      ],
      "metadata": {
        "colab": {
          "base_uri": "https://localhost:8080/",
          "height": 410
        },
        "id": "-8ppw7V0jR7y",
        "outputId": "d2e896b9-7412-431c-e0d9-454db81c5f15"
      },
      "execution_count": 212,
      "outputs": [
        {
          "output_type": "display_data",
          "data": {
            "text/plain": [
              "<Figure size 1000x400 with 1 Axes>"
            ],
            "image/png": "[encoded data removed]"
          },
          "metadata": {}
        }
      ]
    },
    {
      "cell_type": "markdown",
      "source": [
        "It looks kind of similar to the data for newer customers, with a spike from 18 to 16. (Although it is not clear why it is not an exact match) it is possible that the R>36 data was missing, and was filled in by a data scientist, with the aim of somehow matching the distribution of known values.\n",
        "\n",
        "If so, the values of R for FirstPurch>36 are all completely fictitious.\n",
        "\n",
        "Hypothesis A: better results can be obtained by replacing R with -36, for all FirstPurch>36 (this way, a NN or Random Forest can easily learn to ignore R for those values)."
      ],
      "metadata": {
        "id": "l2SxAs6vlvkj"
      }
    },
    {
      "cell_type": "markdown",
      "source": [
        "# Pre-Processing"
      ],
      "metadata": {
        "id": "rbgn5oBssGxu"
      }
    },
    {
      "cell_type": "code",
      "source": [
        "# Print max val from each column:\n",
        "for col in df.columns:\n",
        "  print(f\"{col}: {df[col].max()}\")"
      ],
      "metadata": {
        "colab": {
          "base_uri": "https://localhost:8080/"
        },
        "id": "9qKeSQGsqzF3",
        "outputId": "f998a734-de44-4fbf-976b-acda39a14c12"
      },
      "execution_count": 213,
      "outputs": [
        {
          "output_type": "stream",
          "name": "stdout",
          "text": [
            "Gender: 1\n",
            "M: 475\n",
            "R: 36\n",
            "F: 12\n",
            "FirstPurch: 99\n",
            "ChildBks: 7\n",
            "YouthBks: 5\n",
            "CookBks: 7\n",
            "DoItYBks: 5\n",
            "RefBks: 4\n",
            "ArtBks: 4\n",
            "GeogBks: 6\n",
            "ItalCook: 3\n",
            "ItalAtlas: 2\n",
            "ItalArt: 2\n",
            "Florence: 1\n"
          ]
        }
      ]
    },
    {
      "cell_type": "code",
      "source": [
        "df_clean = df.copy(deep=True)\n",
        "\n",
        "my_mask = df_clean['FirstPurch'] > 36\n",
        "df_clean.loc[my_mask, 'R'] = -36\n",
        "\n",
        "view_07 = df_clean.query('FirstPurch > 36')\n",
        "view_08 = view_07['R'].value_counts()\n",
        "view_08.sort_index(ascending=True)\n",
        "\n",
        "view_09 = view_07.sort_values(by='FirstPurch', ascending=False)\n",
        "view_09[:5]"
      ],
      "metadata": {
        "colab": {
          "base_uri": "https://localhost:8080/",
          "height": 224
        },
        "id": "ryzRPC_VpoCd",
        "outputId": "513470ff-a65e-4eda-fbce-fa72c9e81011"
      },
      "execution_count": 214,
      "outputs": [
        {
          "output_type": "execute_result",
          "data": {
            "text/plain": [
              "      Gender    M   R   F  FirstPurch  ChildBks  YouthBks  CookBks  DoItYBks  \\\n",
              "2783       1  310 -36  12          99         2         2        2         2   \n",
              "1209       1  297 -36  12          94         1         0        7         1   \n",
              "2557       1  209 -36  10          92         4         0        3         0   \n",
              "2346       1  256 -36  11          92         1         2        5         1   \n",
              "858        1  171 -36  11          92         3         1        3         1   \n",
              "\n",
              "      RefBks  ArtBks  GeogBks  ItalCook  ItalAtlas  ItalArt  Florence  \n",
              "2783       0       0        4         0          0        0         0  \n",
              "1209       2       1        0         0          0        0         0  \n",
              "2557       1       0        1         0          0        0         0  \n",
              "2346       0       0        0         0          0        0         0  \n",
              "858        1       1        2         0          0        0         0  "
            ],
            "text/html": [
              "\n",
              "  <div id=\"df-86911dec-278f-4ec5-ba3c-ac764f8086db\" class=\"colab-df-container\">\n",
              "    <div>\n",
              "<style scoped>\n",
              "    .dataframe tbody tr th:only-of-type {\n",
              "        vertical-align: middle;\n",
              "    }\n",
              "\n",
              "    .dataframe tbody tr th {\n",
              "        vertical-align: top;\n",
              "    }\n",
              "\n",
              "    .dataframe thead th {\n",
              "        text-align: right;\n",
              "    }\n",
              "</style>\n",
              "<table border=\"1\" class=\"dataframe\">\n",
              "  <thead>\n",
              "    <tr style=\"text-align: right;\">\n",
              "      <th></th>\n",
              "      <th>Gender</th>\n",
              "      <th>M</th>\n",
              "      <th>R</th>\n",
              "      <th>F</th>\n",
              "      <th>FirstPurch</th>\n",
              "      <th>ChildBks</th>\n",
              "      <th>YouthBks</th>\n",
              "      <th>CookBks</th>\n",
              "      <th>DoItYBks</th>\n",
              "      <th>RefBks</th>\n",
              "      <th>ArtBks</th>\n",
              "      <th>GeogBks</th>\n",
              "      <th>ItalCook</th>\n",
              "      <th>ItalAtlas</th>\n",
              "      <th>ItalArt</th>\n",
              "      <th>Florence</th>\n",
              "    </tr>\n",
              "  </thead>\n",
              "  <tbody>\n",
              "    <tr>\n",
              "      <th>2783</th>\n",
              "      <td>1</td>\n",
              "      <td>310</td>\n",
              "      <td>-36</td>\n",
              "      <td>12</td>\n",
              "      <td>99</td>\n",
              "      <td>2</td>\n",
              "      <td>2</td>\n",
              "      <td>2</td>\n",
              "      <td>2</td>\n",
              "      <td>0</td>\n",
              "      <td>0</td>\n",
              "      <td>4</td>\n",
              "      <td>0</td>\n",
              "      <td>0</td>\n",
              "      <td>0</td>\n",
              "      <td>0</td>\n",
              "    </tr>\n",
              "    <tr>\n",
              "      <th>1209</th>\n",
              "      <td>1</td>\n",
              "      <td>297</td>\n",
              "      <td>-36</td>\n",
              "      <td>12</td>\n",
              "      <td>94</td>\n",
              "      <td>1</td>\n",
              "      <td>0</td>\n",
              "      <td>7</td>\n",
              "      <td>1</td>\n",
              "      <td>2</td>\n",
              "      <td>1</td>\n",
              "      <td>0</td>\n",
              "      <td>0</td>\n",
              "      <td>0</td>\n",
              "      <td>0</td>\n",
              "      <td>0</td>\n",
              "    </tr>\n",
              "    <tr>\n",
              "      <th>2557</th>\n",
              "      <td>1</td>\n",
              "      <td>209</td>\n",
              "      <td>-36</td>\n",
              "      <td>10</td>\n",
              "      <td>92</td>\n",
              "      <td>4</td>\n",
              "      <td>0</td>\n",
              "      <td>3</td>\n",
              "      <td>0</td>\n",
              "      <td>1</td>\n",
              "      <td>0</td>\n",
              "      <td>1</td>\n",
              "      <td>0</td>\n",
              "      <td>0</td>\n",
              "      <td>0</td>\n",
              "      <td>0</td>\n",
              "    </tr>\n",
              "    <tr>\n",
              "      <th>2346</th>\n",
              "      <td>1</td>\n",
              "      <td>256</td>\n",
              "      <td>-36</td>\n",
              "      <td>11</td>\n",
              "      <td>92</td>\n",
              "      <td>1</td>\n",
              "      <td>2</td>\n",
              "      <td>5</td>\n",
              "      <td>1</td>\n",
              "      <td>0</td>\n",
              "      <td>0</td>\n",
              "      <td>0</td>\n",
              "      <td>0</td>\n",
              "      <td>0</td>\n",
              "      <td>0</td>\n",
              "      <td>0</td>\n",
              "    </tr>\n",
              "    <tr>\n",
              "      <th>858</th>\n",
              "      <td>1</td>\n",
              "      <td>171</td>\n",
              "      <td>-36</td>\n",
              "      <td>11</td>\n",
              "      <td>92</td>\n",
              "      <td>3</td>\n",
              "      <td>1</td>\n",
              "      <td>3</td>\n",
              "      <td>1</td>\n",
              "      <td>1</td>\n",
              "      <td>1</td>\n",
              "      <td>2</td>\n",
              "      <td>0</td>\n",
              "      <td>0</td>\n",
              "      <td>0</td>\n",
              "      <td>0</td>\n",
              "    </tr>\n",
              "  </tbody>\n",
              "</table>\n",
              "</div>\n",
              "    <div class=\"colab-df-buttons\">\n",
              "\n",
              "  <div class=\"colab-df-container\">\n",
              "    <button class=\"colab-df-convert\" onclick=\"convertToInteractive('df-86911dec-278f-4ec5-ba3c-ac764f8086db')\"\n",
              "            title=\"Convert this dataframe to an interactive table.\"\n",
              "            style=\"display:none;\">\n",
              "\n",
              "  <svg xmlns=\"http://www.w3.org/2000/svg\" height=\"24px\" viewBox=\"0 -960 960 960\">\n",
              "    <path d=\"M120-120v-720h720v720H120Zm60-500h600v-160H180v160Zm220 220h160v-160H400v160Zm0 220h160v-160H400v160ZM180-400h160v-160H180v160Zm440 0h160v-160H620v160ZM180-180h160v-160H180v160Zm440 0h160v-160H620v160Z\"/>\n",
              "  </svg>\n",
              "    </button>\n",
              "\n",
              "  <style>\n",
              "    .colab-df-container {\n",
              "      display:flex;\n",
              "      gap: 12px;\n",
              "    }\n",
              "\n",
              "    .colab-df-convert {\n",
              "      background-color: #E8F0FE;\n",
              "      border: none;\n",
              "      border-radius: 50%;\n",
              "      cursor: pointer;\n",
              "      display: none;\n",
              "      fill: #1967D2;\n",
              "      height: 32px;\n",
              "      padding: 0 0 0 0;\n",
              "      width: 32px;\n",
              "    }\n",
              "\n",
              "    .colab-df-convert:hover {\n",
              "      background-color: #E2EBFA;\n",
              "      box-shadow: 0px 1px 2px rgba(60, 64, 67, 0.3), 0px 1px 3px 1px rgba(60, 64, 67, 0.15);\n",
              "      fill: #174EA6;\n",
              "    }\n",
              "\n",
              "    .colab-df-buttons div {\n",
              "      margin-bottom: 4px;\n",
              "    }\n",
              "\n",
              "    [theme=dark] .colab-df-convert {\n",
              "      background-color: #3B4455;\n",
              "      fill: #D2E3FC;\n",
              "    }\n",
              "\n",
              "    [theme=dark] .colab-df-convert:hover {\n",
              "      background-color: #434B5C;\n",
              "      box-shadow: 0px 1px 3px 1px rgba(0, 0, 0, 0.15);\n",
              "      filter: drop-shadow(0px 1px 2px rgba(0, 0, 0, 0.3));\n",
              "      fill: #FFFFFF;\n",
              "    }\n",
              "  </style>\n",
              "\n",
              "    <script>\n",
              "      const buttonEl =\n",
              "        document.querySelector('#df-86911dec-278f-4ec5-ba3c-ac764f8086db button.colab-df-convert');\n",
              "      buttonEl.style.display =\n",
              "        google.colab.kernel.accessAllowed ? 'block' : 'none';\n",
              "\n",
              "      async function convertToInteractive(key) {\n",
              "        const element = document.querySelector('#df-86911dec-278f-4ec5-ba3c-ac764f8086db');\n",
              "        const dataTable =\n",
              "          await google.colab.kernel.invokeFunction('convertToInteractive',\n",
              "                                                    [key], {});\n",
              "        if (!dataTable) return;\n",
              "\n",
              "        const docLinkHtml = 'Like what you see? Visit the ' +\n",
              "          '<a target=\"_blank\" href=https://colab.research.google.com/notebooks/data_table.ipynb>data table notebook</a>'\n",
              "          + ' to learn more about interactive tables.';\n",
              "        element.innerHTML = '';\n",
              "        dataTable['output_type'] = 'display_data';\n",
              "        await google.colab.output.renderOutput(dataTable, element);\n",
              "        const docLink = document.createElement('div');\n",
              "        docLink.innerHTML = docLinkHtml;\n",
              "        element.appendChild(docLink);\n",
              "      }\n",
              "    </script>\n",
              "  </div>\n",
              "\n",
              "\n",
              "<div id=\"df-f7a0cf79-dd2c-465b-be16-ce62a8f0b229\">\n",
              "  <button class=\"colab-df-quickchart\" onclick=\"quickchart('df-f7a0cf79-dd2c-465b-be16-ce62a8f0b229')\"\n",
              "            title=\"Suggest charts\"\n",
              "            style=\"display:none;\">\n",
              "\n",
              "<svg xmlns=\"http://www.w3.org/2000/svg\" height=\"24px\"viewBox=\"0 0 24 24\"\n",
              "     width=\"24px\">\n",
              "    <g>\n",
              "        <path d=\"M19 3H5c-1.1 0-2 .9-2 2v14c0 1.1.9 2 2 2h14c1.1 0 2-.9 2-2V5c0-1.1-.9-2-2-2zM9 17H7v-7h2v7zm4 0h-2V7h2v10zm4 0h-2v-4h2v4z\"/>\n",
              "    </g>\n",
              "</svg>\n",
              "  </button>\n",
              "\n",
              "<style>\n",
              "  .colab-df-quickchart {\n",
              "      --bg-color: #E8F0FE;\n",
              "      --fill-color: #1967D2;\n",
              "      --hover-bg-color: #E2EBFA;\n",
              "      --hover-fill-color: #174EA6;\n",
              "      --disabled-fill-color: #AAA;\n",
              "      --disabled-bg-color: #DDD;\n",
              "  }\n",
              "\n",
              "  [theme=dark] .colab-df-quickchart {\n",
              "      --bg-color: #3B4455;\n",
              "      --fill-color: #D2E3FC;\n",
              "      --hover-bg-color: #434B5C;\n",
              "      --hover-fill-color: #FFFFFF;\n",
              "      --disabled-bg-color: #3B4455;\n",
              "      --disabled-fill-color: #666;\n",
              "  }\n",
              "\n",
              "  .colab-df-quickchart {\n",
              "    background-color: var(--bg-color);\n",
              "    border: none;\n",
              "    border-radius: 50%;\n",
              "    cursor: pointer;\n",
              "    display: none;\n",
              "    fill: var(--fill-color);\n",
              "    height: 32px;\n",
              "    padding: 0;\n",
              "    width: 32px;\n",
              "  }\n",
              "\n",
              "  .colab-df-quickchart:hover {\n",
              "    background-color: var(--hover-bg-color);\n",
              "    box-shadow: 0 1px 2px rgba(60, 64, 67, 0.3), 0 1px 3px 1px rgba(60, 64, 67, 0.15);\n",
              "    fill: var(--button-hover-fill-color);\n",
              "  }\n",
              "\n",
              "  .colab-df-quickchart-complete:disabled,\n",
              "  .colab-df-quickchart-complete:disabled:hover {\n",
              "    background-color: var(--disabled-bg-color);\n",
              "    fill: var(--disabled-fill-color);\n",
              "    box-shadow: none;\n",
              "  }\n",
              "\n",
              "  .colab-df-spinner {\n",
              "    border: 2px solid var(--fill-color);\n",
              "    border-color: transparent;\n",
              "    border-bottom-color: var(--fill-color);\n",
              "    animation:\n",
              "      spin 1s steps(1) infinite;\n",
              "  }\n",
              "\n",
              "  @keyframes spin {\n",
              "    0% {\n",
              "      border-color: transparent;\n",
              "      border-bottom-color: var(--fill-color);\n",
              "      border-left-color: var(--fill-color);\n",
              "    }\n",
              "    20% {\n",
              "      border-color: transparent;\n",
              "      border-left-color: var(--fill-color);\n",
              "      border-top-color: var(--fill-color);\n",
              "    }\n",
              "    30% {\n",
              "      border-color: transparent;\n",
              "      border-left-color: var(--fill-color);\n",
              "      border-top-color: var(--fill-color);\n",
              "      border-right-color: var(--fill-color);\n",
              "    }\n",
              "    40% {\n",
              "      border-color: transparent;\n",
              "      border-right-color: var(--fill-color);\n",
              "      border-top-color: var(--fill-color);\n",
              "    }\n",
              "    60% {\n",
              "      border-color: transparent;\n",
              "      border-right-color: var(--fill-color);\n",
              "    }\n",
              "    80% {\n",
              "      border-color: transparent;\n",
              "      border-right-color: var(--fill-color);\n",
              "      border-bottom-color: var(--fill-color);\n",
              "    }\n",
              "    90% {\n",
              "      border-color: transparent;\n",
              "      border-bottom-color: var(--fill-color);\n",
              "    }\n",
              "  }\n",
              "</style>\n",
              "\n",
              "  <script>\n",
              "    async function quickchart(key) {\n",
              "      const quickchartButtonEl =\n",
              "        document.querySelector('#' + key + ' button');\n",
              "      quickchartButtonEl.disabled = true;  // To prevent multiple clicks.\n",
              "      quickchartButtonEl.classList.add('colab-df-spinner');\n",
              "      try {\n",
              "        const charts = await google.colab.kernel.invokeFunction(\n",
              "            'suggestCharts', [key], {});\n",
              "      } catch (error) {\n",
              "        console.error('Error during call to suggestCharts:', error);\n",
              "      }\n",
              "      quickchartButtonEl.classList.remove('colab-df-spinner');\n",
              "      quickchartButtonEl.classList.add('colab-df-quickchart-complete');\n",
              "    }\n",
              "    (() => {\n",
              "      let quickchartButtonEl =\n",
              "        document.querySelector('#df-f7a0cf79-dd2c-465b-be16-ce62a8f0b229 button');\n",
              "      quickchartButtonEl.style.display =\n",
              "        google.colab.kernel.accessAllowed ? 'block' : 'none';\n",
              "    })();\n",
              "  </script>\n",
              "</div>\n",
              "\n",
              "    </div>\n",
              "  </div>\n"
            ],
            "application/vnd.google.colaboratory.intrinsic+json": {
              "type": "dataframe",
              "summary": "{\n  \"name\": \"view_09[:5]\",\n  \"rows\": 5,\n  \"fields\": [\n    {\n      \"column\": \"Gender\",\n      \"properties\": {\n        \"dtype\": \"number\",\n        \"std\": 0,\n        \"min\": 1,\n        \"max\": 1,\n        \"num_unique_values\": 1,\n        \"samples\": [\n          1\n        ],\n        \"semantic_type\": \"\",\n        \"description\": \"\"\n      }\n    },\n    {\n      \"column\": \"M\",\n      \"properties\": {\n        \"dtype\": \"number\",\n        \"std\": 58,\n        \"min\": 171,\n        \"max\": 310,\n        \"num_unique_values\": 5,\n        \"samples\": [\n          297\n        ],\n        \"semantic_type\": \"\",\n        \"description\": \"\"\n      }\n    },\n    {\n      \"column\": \"R\",\n      \"properties\": {\n        \"dtype\": \"number\",\n        \"std\": 0,\n        \"min\": -36,\n        \"max\": -36,\n        \"num_unique_values\": 1,\n        \"samples\": [\n          -36\n        ],\n        \"semantic_type\": \"\",\n        \"description\": \"\"\n      }\n    },\n    {\n      \"column\": \"F\",\n      \"properties\": {\n        \"dtype\": \"number\",\n        \"std\": 0,\n        \"min\": 10,\n        \"max\": 12,\n        \"num_unique_values\": 3,\n        \"samples\": [\n          12\n        ],\n        \"semantic_type\": \"\",\n        \"description\": \"\"\n      }\n    },\n    {\n      \"column\": \"FirstPurch\",\n      \"properties\": {\n        \"dtype\": \"number\",\n        \"std\": 3,\n        \"min\": 92,\n        \"max\": 99,\n        \"num_unique_values\": 3,\n        \"samples\": [\n          99\n        ],\n        \"semantic_type\": \"\",\n        \"description\": \"\"\n      }\n    },\n    {\n      \"column\": \"ChildBks\",\n      \"properties\": {\n        \"dtype\": \"number\",\n        \"std\": 1,\n        \"min\": 1,\n        \"max\": 4,\n        \"num_unique_values\": 4,\n        \"samples\": [\n          1\n        ],\n        \"semantic_type\": \"\",\n        \"description\": \"\"\n      }\n    },\n    {\n      \"column\": \"YouthBks\",\n      \"properties\": {\n        \"dtype\": \"number\",\n        \"std\": 1,\n        \"min\": 0,\n        \"max\": 2,\n        \"num_unique_values\": 3,\n        \"samples\": [\n          2\n        ],\n        \"semantic_type\": \"\",\n        \"description\": \"\"\n      }\n    },\n    {\n      \"column\": \"CookBks\",\n      \"properties\": {\n        \"dtype\": \"number\",\n        \"std\": 2,\n        \"min\": 2,\n        \"max\": 7,\n        \"num_unique_values\": 4,\n        \"samples\": [\n          7\n        ],\n        \"semantic_type\": \"\",\n        \"description\": \"\"\n      }\n    },\n    {\n      \"column\": \"DoItYBks\",\n      \"properties\": {\n        \"dtype\": \"number\",\n        \"std\": 0,\n        \"min\": 0,\n        \"max\": 2,\n        \"num_unique_values\": 3,\n        \"samples\": [\n          2\n        ],\n        \"semantic_type\": \"\",\n        \"description\": \"\"\n      }\n    },\n    {\n      \"column\": \"RefBks\",\n      \"properties\": {\n        \"dtype\": \"number\",\n        \"std\": 0,\n        \"min\": 0,\n        \"max\": 2,\n        \"num_unique_values\": 3,\n        \"samples\": [\n          0\n        ],\n        \"semantic_type\": \"\",\n        \"description\": \"\"\n      }\n    },\n    {\n      \"column\": \"ArtBks\",\n      \"properties\": {\n        \"dtype\": \"number\",\n        \"std\": 0,\n        \"min\": 0,\n        \"max\": 1,\n        \"num_unique_values\": 2,\n        \"samples\": [\n          1\n        ],\n        \"semantic_type\": \"\",\n        \"description\": \"\"\n      }\n    },\n    {\n      \"column\": \"GeogBks\",\n      \"properties\": {\n        \"dtype\": \"number\",\n        \"std\": 1,\n        \"min\": 0,\n        \"max\": 4,\n        \"num_unique_values\": 4,\n        \"samples\": [\n          0\n        ],\n        \"semantic_type\": \"\",\n        \"description\": \"\"\n      }\n    },\n    {\n      \"column\": \"ItalCook\",\n      \"properties\": {\n        \"dtype\": \"number\",\n        \"std\": 0,\n        \"min\": 0,\n        \"max\": 0,\n        \"num_unique_values\": 1,\n        \"samples\": [\n          0\n        ],\n        \"semantic_type\": \"\",\n        \"description\": \"\"\n      }\n    },\n    {\n      \"column\": \"ItalAtlas\",\n      \"properties\": {\n        \"dtype\": \"number\",\n        \"std\": 0,\n        \"min\": 0,\n        \"max\": 0,\n        \"num_unique_values\": 1,\n        \"samples\": [\n          0\n        ],\n        \"semantic_type\": \"\",\n        \"description\": \"\"\n      }\n    },\n    {\n      \"column\": \"ItalArt\",\n      \"properties\": {\n        \"dtype\": \"number\",\n        \"std\": 0,\n        \"min\": 0,\n        \"max\": 0,\n        \"num_unique_values\": 1,\n        \"samples\": [\n          0\n        ],\n        \"semantic_type\": \"\",\n        \"description\": \"\"\n      }\n    },\n    {\n      \"column\": \"Florence\",\n      \"properties\": {\n        \"dtype\": \"number\",\n        \"std\": 0,\n        \"min\": 0,\n        \"max\": 0,\n        \"num_unique_values\": 1,\n        \"samples\": [\n          0\n        ],\n        \"semantic_type\": \"\",\n        \"description\": \"\"\n      }\n    }\n  ]\n}"
            }
          },
          "metadata": {},
          "execution_count": 214
        }
      ]
    },
    {
      "cell_type": "markdown",
      "source": [
        "# Normalize"
      ],
      "metadata": {
        "id": "6kuQElopdfnn"
      }
    },
    {
      "cell_type": "code",
      "source": [
        "# Normalize.\n",
        "from sklearn.preprocessing import StandardScaler\n",
        "scaler = StandardScaler()\n",
        "\n",
        "non_numer_columns = ['Gender', 'Florence']\n",
        "# all others are numeric:\n",
        "numeric_columns = df.columns.difference(non_numer_columns)\n",
        "\n",
        "# Scale only the numeric columns:\n",
        "scaled_numeric = scaler.fit_transform(df[numeric_columns])\n",
        "\n",
        "# Convert to a data frame:\n",
        "df_scaled_numeric = pd.DataFrame(scaled_numeric, columns=numeric_columns)\n",
        "\n",
        "# Combine with the non-numeric columns (booleans or one-hot):\n",
        "df_scaled = pd.concat([df_scaled_numeric, df.drop(columns=numeric_columns)], axis=1)\n",
        "\n",
        "\n",
        "# Separate labels/targets (predicted variable):\n",
        "labels = df_scaled['Florence']\n",
        "df_scaled = df_scaled.drop(columns=['Florence'])\n",
        "\n",
        "df_scaled.head(1)\n",
        "\n",
        "\n",
        "# Repeat for df_clean:\n",
        "scaled_numeric_clean = scaler.fit_transform(df_clean[numeric_columns])\n",
        "df_scaled_numeric_clean = pd.DataFrame(scaled_numeric_clean, columns=numeric_columns)\n",
        "df_scaled_clean = pd.concat([df_scaled_numeric_clean, df_clean.drop(columns=numeric_columns)], axis=1)\n",
        "\n",
        "labels_clean = labels  # For now, labels are identical.\n",
        "df_scaled_clean = df_scaled_clean.drop(columns=['Florence'])\n",
        "\n",
        "print(labels_clean[0])\n",
        "df_scaled_clean.head(1)"
      ],
      "metadata": {
        "colab": {
          "base_uri": "https://localhost:8080/",
          "height": 117
        },
        "id": "oOCOrWcUsN5w",
        "outputId": "b2fa18d4-ded3-41d3-e0b5-787b6be2a509"
      },
      "execution_count": 215,
      "outputs": [
        {
          "output_type": "stream",
          "name": "stdout",
          "text": [
            "1\n"
          ]
        },
        {
          "output_type": "execute_result",
          "data": {
            "text/plain": [
              "     ArtBks  ChildBks   CookBks  DoItYBks         F  FirstPurch   GeogBks  \\\n",
              "0 -0.475125 -0.630523 -0.667496 -0.499272 -0.517513   -1.227436 -0.510395   \n",
              "\n",
              "    ItalArt  ItalAtlas  ItalCook         M         R    RefBks  YouthBks  \\\n",
              "0 -0.207615  -0.172513 -0.319747  0.099549  0.045579 -0.454014 -0.497276   \n",
              "\n",
              "   Gender  \n",
              "0       0  "
            ],
            "text/html": [
              "\n",
              "  <div id=\"df-1f619603-1a84-4186-9fa9-ff0c45ebf65e\" class=\"colab-df-container\">\n",
              "    <div>\n",
              "<style scoped>\n",
              "    .dataframe tbody tr th:only-of-type {\n",
              "        vertical-align: middle;\n",
              "    }\n",
              "\n",
              "    .dataframe tbody tr th {\n",
              "        vertical-align: top;\n",
              "    }\n",
              "\n",
              "    .dataframe thead th {\n",
              "        text-align: right;\n",
              "    }\n",
              "</style>\n",
              "<table border=\"1\" class=\"dataframe\">\n",
              "  <thead>\n",
              "    <tr style=\"text-align: right;\">\n",
              "      <th></th>\n",
              "      <th>ArtBks</th>\n",
              "      <th>ChildBks</th>\n",
              "      <th>CookBks</th>\n",
              "      <th>DoItYBks</th>\n",
              "      <th>F</th>\n",
              "      <th>FirstPurch</th>\n",
              "      <th>GeogBks</th>\n",
              "      <th>ItalArt</th>\n",
              "      <th>ItalAtlas</th>\n",
              "      <th>ItalCook</th>\n",
              "      <th>M</th>\n",
              "      <th>R</th>\n",
              "      <th>RefBks</th>\n",
              "      <th>YouthBks</th>\n",
              "      <th>Gender</th>\n",
              "    </tr>\n",
              "  </thead>\n",
              "  <tbody>\n",
              "    <tr>\n",
              "      <th>0</th>\n",
              "      <td>-0.475125</td>\n",
              "      <td>-0.630523</td>\n",
              "      <td>-0.667496</td>\n",
              "      <td>-0.499272</td>\n",
              "      <td>-0.517513</td>\n",
              "      <td>-1.227436</td>\n",
              "      <td>-0.510395</td>\n",
              "      <td>-0.207615</td>\n",
              "      <td>-0.172513</td>\n",
              "      <td>-0.319747</td>\n",
              "      <td>0.099549</td>\n",
              "      <td>0.045579</td>\n",
              "      <td>-0.454014</td>\n",
              "      <td>-0.497276</td>\n",
              "      <td>0</td>\n",
              "    </tr>\n",
              "  </tbody>\n",
              "</table>\n",
              "</div>\n",
              "    <div class=\"colab-df-buttons\">\n",
              "\n",
              "  <div class=\"colab-df-container\">\n",
              "    <button class=\"colab-df-convert\" onclick=\"convertToInteractive('df-1f619603-1a84-4186-9fa9-ff0c45ebf65e')\"\n",
              "            title=\"Convert this dataframe to an interactive table.\"\n",
              "            style=\"display:none;\">\n",
              "\n",
              "  <svg xmlns=\"http://www.w3.org/2000/svg\" height=\"24px\" viewBox=\"0 -960 960 960\">\n",
              "    <path d=\"M120-120v-720h720v720H120Zm60-500h600v-160H180v160Zm220 220h160v-160H400v160Zm0 220h160v-160H400v160ZM180-400h160v-160H180v160Zm440 0h160v-160H620v160ZM180-180h160v-160H180v160Zm440 0h160v-160H620v160Z\"/>\n",
              "  </svg>\n",
              "    </button>\n",
              "\n",
              "  <style>\n",
              "    .colab-df-container {\n",
              "      display:flex;\n",
              "      gap: 12px;\n",
              "    }\n",
              "\n",
              "    .colab-df-convert {\n",
              "      background-color: #E8F0FE;\n",
              "      border: none;\n",
              "      border-radius: 50%;\n",
              "      cursor: pointer;\n",
              "      display: none;\n",
              "      fill: #1967D2;\n",
              "      height: 32px;\n",
              "      padding: 0 0 0 0;\n",
              "      width: 32px;\n",
              "    }\n",
              "\n",
              "    .colab-df-convert:hover {\n",
              "      background-color: #E2EBFA;\n",
              "      box-shadow: 0px 1px 2px rgba(60, 64, 67, 0.3), 0px 1px 3px 1px rgba(60, 64, 67, 0.15);\n",
              "      fill: #174EA6;\n",
              "    }\n",
              "\n",
              "    .colab-df-buttons div {\n",
              "      margin-bottom: 4px;\n",
              "    }\n",
              "\n",
              "    [theme=dark] .colab-df-convert {\n",
              "      background-color: #3B4455;\n",
              "      fill: #D2E3FC;\n",
              "    }\n",
              "\n",
              "    [theme=dark] .colab-df-convert:hover {\n",
              "      background-color: #434B5C;\n",
              "      box-shadow: 0px 1px 3px 1px rgba(0, 0, 0, 0.15);\n",
              "      filter: drop-shadow(0px 1px 2px rgba(0, 0, 0, 0.3));\n",
              "      fill: #FFFFFF;\n",
              "    }\n",
              "  </style>\n",
              "\n",
              "    <script>\n",
              "      const buttonEl =\n",
              "        document.querySelector('#df-1f619603-1a84-4186-9fa9-ff0c45ebf65e button.colab-df-convert');\n",
              "      buttonEl.style.display =\n",
              "        google.colab.kernel.accessAllowed ? 'block' : 'none';\n",
              "\n",
              "      async function convertToInteractive(key) {\n",
              "        const element = document.querySelector('#df-1f619603-1a84-4186-9fa9-ff0c45ebf65e');\n",
              "        const dataTable =\n",
              "          await google.colab.kernel.invokeFunction('convertToInteractive',\n",
              "                                                    [key], {});\n",
              "        if (!dataTable) return;\n",
              "\n",
              "        const docLinkHtml = 'Like what you see? Visit the ' +\n",
              "          '<a target=\"_blank\" href=https://colab.research.google.com/notebooks/data_table.ipynb>data table notebook</a>'\n",
              "          + ' to learn more about interactive tables.';\n",
              "        element.innerHTML = '';\n",
              "        dataTable['output_type'] = 'display_data';\n",
              "        await google.colab.output.renderOutput(dataTable, element);\n",
              "        const docLink = document.createElement('div');\n",
              "        docLink.innerHTML = docLinkHtml;\n",
              "        element.appendChild(docLink);\n",
              "      }\n",
              "    </script>\n",
              "  </div>\n",
              "\n",
              "\n",
              "    </div>\n",
              "  </div>\n"
            ],
            "application/vnd.google.colaboratory.intrinsic+json": {
              "type": "dataframe",
              "variable_name": "df_scaled_clean",
              "summary": "{\n  \"name\": \"df_scaled_clean\",\n  \"rows\": 3200,\n  \"fields\": [\n    {\n      \"column\": \"ArtBks\",\n      \"properties\": {\n        \"dtype\": \"number\",\n        \"std\": 1.000156286630639,\n        \"min\": -0.47512494866510613,\n        \"max\": 6.3812440963330435,\n        \"num_unique_values\": 5,\n        \"samples\": [\n          1.2389673125844314,\n          6.3812440963330435,\n          4.667151835083506\n        ],\n        \"semantic_type\": \"\",\n        \"description\": \"\"\n      }\n    },\n    {\n      \"column\": \"ChildBks\",\n      \"properties\": {\n        \"dtype\": \"number\",\n        \"std\": 1.0001562866306148,\n        \"min\": -0.6305228531444212,\n        \"max\": 6.406702812244236,\n        \"num_unique_values\": 8,\n        \"samples\": [\n          0.3747950990539584,\n          2.385431003450718,\n          -0.6305228531444212\n        ],\n        \"semantic_type\": \"\",\n        \"description\": \"\"\n      }\n    },\n    {\n      \"column\": \"CookBks\",\n      \"properties\": {\n        \"dtype\": \"number\",\n        \"std\": 1.0001562866306188,\n        \"min\": -0.6674957904360272,\n        \"max\": 5.785635718311063,\n        \"num_unique_values\": 8,\n        \"samples\": [\n          0.2543801393849857,\n          3.941883858669037,\n          -0.6674957904360272\n        ],\n        \"semantic_type\": \"\",\n        \"description\": \"\"\n      }\n    },\n    {\n      \"column\": \"DoItYBks\",\n      \"properties\": {\n        \"dtype\": \"number\",\n        \"std\": 1.000156286630657,\n        \"min\": -0.49927151670396697,\n        \"max\": 6.809369166977159,\n        \"num_unique_values\": 6,\n        \"samples\": [\n          -0.49927151670396697,\n          0.9624566200322584,\n          6.809369166977159\n        ],\n        \"semantic_type\": \"\",\n        \"description\": \"\"\n      }\n    },\n    {\n      \"column\": \"F\",\n      \"properties\": {\n        \"dtype\": \"number\",\n        \"std\": 1.0001562866306153,\n        \"min\": -0.8082505321547311,\n        \"max\": 2.389863084284853,\n        \"num_unique_values\": 12,\n        \"samples\": [\n          0.35469987382329937,\n          1.8083878812958376,\n          -0.5175129306602235\n        ],\n        \"semantic_type\": \"\",\n        \"description\": \"\"\n      }\n    },\n    {\n      \"column\": \"FirstPurch\",\n      \"properties\": {\n        \"dtype\": \"number\",\n        \"std\": 1.000156286630638,\n        \"min\": -1.3376323190020394,\n        \"max\": 4.006905014377201,\n        \"num_unique_values\": 48,\n        \"samples\": [\n          0.09492407963569506,\n          2.9600368769111642,\n          -0.015272566413361431\n        ],\n        \"semantic_type\": \"\",\n        \"description\": \"\"\n      }\n    },\n    {\n      \"column\": \"GeogBks\",\n      \"properties\": {\n        \"dtype\": \"number\",\n        \"std\": 1.000156286630659,\n        \"min\": -0.5103946862164506,\n        \"max\": 7.508899892634491,\n        \"num_unique_values\": 7,\n        \"samples\": [\n          -0.5103946862164506,\n          2.1627035067338634,\n          6.172350796159334\n        ],\n        \"semantic_type\": \"\",\n        \"description\": \"\"\n      }\n    },\n    {\n      \"column\": \"ItalArt\",\n      \"properties\": {\n        \"dtype\": \"number\",\n        \"std\": 1.000156286630651,\n        \"min\": -0.20761476371700893,\n        \"max\": 8.956071358964763,\n        \"num_unique_values\": 3,\n        \"samples\": [\n          -0.20761476371700893,\n          4.374228297623878,\n          8.956071358964763\n        ],\n        \"semantic_type\": \"\",\n        \"description\": \"\"\n      }\n    },\n    {\n      \"column\": \"ItalAtlas\",\n      \"properties\": {\n        \"dtype\": \"number\",\n        \"std\": 1.0001562866306055,\n        \"min\": -0.1725134781419903,\n        \"max\": 9.428236609760079,\n        \"num_unique_values\": 3,\n        \"samples\": [\n          -0.1725134781419903,\n          4.627861565809044,\n          9.428236609760079\n        ],\n        \"semantic_type\": \"\",\n        \"description\": \"\"\n      }\n    },\n    {\n      \"column\": \"ItalCook\",\n      \"properties\": {\n        \"dtype\": \"number\",\n        \"std\": 1.0001562866306197,\n        \"min\": -0.31974659155443813,\n        \"max\": 7.412160912028952,\n        \"num_unique_values\": 4,\n        \"samples\": [\n          2.257555909640025,\n          7.412160912028952,\n          -0.31974659155443813\n        ],\n        \"semantic_type\": \"\",\n        \"description\": \"\"\n      }\n    },\n    {\n      \"column\": \"M\",\n      \"properties\": {\n        \"dtype\": \"number\",\n        \"std\": 1.0001562866306353,\n        \"min\": -1.921864239519244,\n        \"max\": 2.6586780786340327,\n        \"num_unique_values\": 437,\n        \"samples\": [\n          2.449566364109644,\n          1.0256151652054732,\n          -0.03985880879974551\n        ],\n        \"semantic_type\": \"\",\n        \"description\": \"\"\n      }\n    },\n    {\n      \"column\": \"R\",\n      \"properties\": {\n        \"dtype\": \"number\",\n        \"std\": 1.0001562866306255,\n        \"min\": -1.724027986086824,\n        \"max\": 1.6289116093685245,\n        \"num_unique_values\": 19,\n        \"samples\": [\n          0.045579022625721145,\n          1.5357743983836538,\n          1.0700883434592998\n        ],\n        \"semantic_type\": \"\",\n        \"description\": \"\"\n      }\n    },\n    {\n      \"column\": \"RefBks\",\n      \"properties\": {\n        \"dtype\": \"number\",\n        \"std\": 1.0001562866306226,\n        \"min\": -0.4540138794100379,\n        \"max\": 6.774067782839323,\n        \"num_unique_values\": 5,\n        \"samples\": [\n          1.3530065361523023,\n          6.774067782839323,\n          3.1600269517146424\n        ],\n        \"semantic_type\": \"\",\n        \"description\": \"\"\n      }\n    },\n    {\n      \"column\": \"YouthBks\",\n      \"properties\": {\n        \"dtype\": \"number\",\n        \"std\": 1.0001562866306621,\n        \"min\": -0.4972756857340546,\n        \"max\": 7.6049758129878136,\n        \"num_unique_values\": 6,\n        \"samples\": [\n          -0.4972756857340546,\n          1.123174614010319,\n          7.6049758129878136\n        ],\n        \"semantic_type\": \"\",\n        \"description\": \"\"\n      }\n    },\n    {\n      \"column\": \"Gender\",\n      \"properties\": {\n        \"dtype\": \"number\",\n        \"std\": 0,\n        \"min\": 0,\n        \"max\": 1,\n        \"num_unique_values\": 2,\n        \"samples\": [\n          1,\n          0\n        ],\n        \"semantic_type\": \"\",\n        \"description\": \"\"\n      }\n    }\n  ]\n}"
            }
          },
          "metadata": {},
          "execution_count": 215
        }
      ]
    },
    {
      "cell_type": "code",
      "source": [
        "# Idea: the presence or absence of purchases in a given category might be more\n",
        "# important than the number of purchases in that category.\n",
        "# Therefore, convert those columns to boolean.\n",
        "\n",
        "non_bool_cols = ['M', 'R', 'F', 'FirstPurch']\n",
        "bool_cols = df_scaled.columns.difference(non_bool_cols)\n",
        "\n",
        "df_scaled_2 = df_scaled.copy(deep=True)\n",
        "df_scaled_2[bool_cols] = (df_scaled[bool_cols] > 0).astype(int)\n",
        "\n",
        "df_scaled_2.head(1)\n",
        "\n",
        "df_scaled_clean_2 = df_scaled_clean.copy(deep=True)\n",
        "df_scaled_clean_2[bool_cols] = (df_scaled_clean[bool_cols] > 0).astype(int)\n",
        "\n",
        "df_scaled_clean_2.head(1)"
      ],
      "metadata": {
        "colab": {
          "base_uri": "https://localhost:8080/",
          "height": 100
        },
        "id": "OkfEfMzPsRAK",
        "outputId": "7c035bd5-1bfb-4012-d650-8aebf8f6db85"
      },
      "execution_count": 216,
      "outputs": [
        {
          "output_type": "execute_result",
          "data": {
            "text/plain": [
              "   ArtBks  ChildBks  CookBks  DoItYBks         F  FirstPurch  GeogBks  \\\n",
              "0       0         0        0         0 -0.517513   -1.227436        0   \n",
              "\n",
              "   ItalArt  ItalAtlas  ItalCook         M         R  RefBks  YouthBks  Gender  \n",
              "0        0          0         0  0.099549  0.045579       0         0       0  "
            ],
            "text/html": [
              "\n",
              "  <div id=\"df-e8e0d16e-247f-4395-9b5a-5c4e1c6a828c\" class=\"colab-df-container\">\n",
              "    <div>\n",
              "<style scoped>\n",
              "    .dataframe tbody tr th:only-of-type {\n",
              "        vertical-align: middle;\n",
              "    }\n",
              "\n",
              "    .dataframe tbody tr th {\n",
              "        vertical-align: top;\n",
              "    }\n",
              "\n",
              "    .dataframe thead th {\n",
              "        text-align: right;\n",
              "    }\n",
              "</style>\n",
              "<table border=\"1\" class=\"dataframe\">\n",
              "  <thead>\n",
              "    <tr style=\"text-align: right;\">\n",
              "      <th></th>\n",
              "      <th>ArtBks</th>\n",
              "      <th>ChildBks</th>\n",
              "      <th>CookBks</th>\n",
              "      <th>DoItYBks</th>\n",
              "      <th>F</th>\n",
              "      <th>FirstPurch</th>\n",
              "      <th>GeogBks</th>\n",
              "      <th>ItalArt</th>\n",
              "      <th>ItalAtlas</th>\n",
              "      <th>ItalCook</th>\n",
              "      <th>M</th>\n",
              "      <th>R</th>\n",
              "      <th>RefBks</th>\n",
              "      <th>YouthBks</th>\n",
              "      <th>Gender</th>\n",
              "    </tr>\n",
              "  </thead>\n",
              "  <tbody>\n",
              "    <tr>\n",
              "      <th>0</th>\n",
              "      <td>0</td>\n",
              "      <td>0</td>\n",
              "      <td>0</td>\n",
              "      <td>0</td>\n",
              "      <td>-0.517513</td>\n",
              "      <td>-1.227436</td>\n",
              "      <td>0</td>\n",
              "      <td>0</td>\n",
              "      <td>0</td>\n",
              "      <td>0</td>\n",
              "      <td>0.099549</td>\n",
              "      <td>0.045579</td>\n",
              "      <td>0</td>\n",
              "      <td>0</td>\n",
              "      <td>0</td>\n",
              "    </tr>\n",
              "  </tbody>\n",
              "</table>\n",
              "</div>\n",
              "    <div class=\"colab-df-buttons\">\n",
              "\n",
              "  <div class=\"colab-df-container\">\n",
              "    <button class=\"colab-df-convert\" onclick=\"convertToInteractive('df-e8e0d16e-247f-4395-9b5a-5c4e1c6a828c')\"\n",
              "            title=\"Convert this dataframe to an interactive table.\"\n",
              "            style=\"display:none;\">\n",
              "\n",
              "  <svg xmlns=\"http://www.w3.org/2000/svg\" height=\"24px\" viewBox=\"0 -960 960 960\">\n",
              "    <path d=\"M120-120v-720h720v720H120Zm60-500h600v-160H180v160Zm220 220h160v-160H400v160Zm0 220h160v-160H400v160ZM180-400h160v-160H180v160Zm440 0h160v-160H620v160ZM180-180h160v-160H180v160Zm440 0h160v-160H620v160Z\"/>\n",
              "  </svg>\n",
              "    </button>\n",
              "\n",
              "  <style>\n",
              "    .colab-df-container {\n",
              "      display:flex;\n",
              "      gap: 12px;\n",
              "    }\n",
              "\n",
              "    .colab-df-convert {\n",
              "      background-color: #E8F0FE;\n",
              "      border: none;\n",
              "      border-radius: 50%;\n",
              "      cursor: pointer;\n",
              "      display: none;\n",
              "      fill: #1967D2;\n",
              "      height: 32px;\n",
              "      padding: 0 0 0 0;\n",
              "      width: 32px;\n",
              "    }\n",
              "\n",
              "    .colab-df-convert:hover {\n",
              "      background-color: #E2EBFA;\n",
              "      box-shadow: 0px 1px 2px rgba(60, 64, 67, 0.3), 0px 1px 3px 1px rgba(60, 64, 67, 0.15);\n",
              "      fill: #174EA6;\n",
              "    }\n",
              "\n",
              "    .colab-df-buttons div {\n",
              "      margin-bottom: 4px;\n",
              "    }\n",
              "\n",
              "    [theme=dark] .colab-df-convert {\n",
              "      background-color: #3B4455;\n",
              "      fill: #D2E3FC;\n",
              "    }\n",
              "\n",
              "    [theme=dark] .colab-df-convert:hover {\n",
              "      background-color: #434B5C;\n",
              "      box-shadow: 0px 1px 3px 1px rgba(0, 0, 0, 0.15);\n",
              "      filter: drop-shadow(0px 1px 2px rgba(0, 0, 0, 0.3));\n",
              "      fill: #FFFFFF;\n",
              "    }\n",
              "  </style>\n",
              "\n",
              "    <script>\n",
              "      const buttonEl =\n",
              "        document.querySelector('#df-e8e0d16e-247f-4395-9b5a-5c4e1c6a828c button.colab-df-convert');\n",
              "      buttonEl.style.display =\n",
              "        google.colab.kernel.accessAllowed ? 'block' : 'none';\n",
              "\n",
              "      async function convertToInteractive(key) {\n",
              "        const element = document.querySelector('#df-e8e0d16e-247f-4395-9b5a-5c4e1c6a828c');\n",
              "        const dataTable =\n",
              "          await google.colab.kernel.invokeFunction('convertToInteractive',\n",
              "                                                    [key], {});\n",
              "        if (!dataTable) return;\n",
              "\n",
              "        const docLinkHtml = 'Like what you see? Visit the ' +\n",
              "          '<a target=\"_blank\" href=https://colab.research.google.com/notebooks/data_table.ipynb>data table notebook</a>'\n",
              "          + ' to learn more about interactive tables.';\n",
              "        element.innerHTML = '';\n",
              "        dataTable['output_type'] = 'display_data';\n",
              "        await google.colab.output.renderOutput(dataTable, element);\n",
              "        const docLink = document.createElement('div');\n",
              "        docLink.innerHTML = docLinkHtml;\n",
              "        element.appendChild(docLink);\n",
              "      }\n",
              "    </script>\n",
              "  </div>\n",
              "\n",
              "\n",
              "    </div>\n",
              "  </div>\n"
            ],
            "application/vnd.google.colaboratory.intrinsic+json": {
              "type": "dataframe",
              "variable_name": "df_scaled_clean_2",
              "summary": "{\n  \"name\": \"df_scaled_clean_2\",\n  \"rows\": 3200,\n  \"fields\": [\n    {\n      \"column\": \"ArtBks\",\n      \"properties\": {\n        \"dtype\": \"number\",\n        \"std\": 0,\n        \"min\": 0,\n        \"max\": 1,\n        \"num_unique_values\": 2,\n        \"samples\": [\n          1,\n          0\n        ],\n        \"semantic_type\": \"\",\n        \"description\": \"\"\n      }\n    },\n    {\n      \"column\": \"ChildBks\",\n      \"properties\": {\n        \"dtype\": \"number\",\n        \"std\": 0,\n        \"min\": 0,\n        \"max\": 1,\n        \"num_unique_values\": 2,\n        \"samples\": [\n          1,\n          0\n        ],\n        \"semantic_type\": \"\",\n        \"description\": \"\"\n      }\n    },\n    {\n      \"column\": \"CookBks\",\n      \"properties\": {\n        \"dtype\": \"number\",\n        \"std\": 0,\n        \"min\": 0,\n        \"max\": 1,\n        \"num_unique_values\": 2,\n        \"samples\": [\n          1,\n          0\n        ],\n        \"semantic_type\": \"\",\n        \"description\": \"\"\n      }\n    },\n    {\n      \"column\": \"DoItYBks\",\n      \"properties\": {\n        \"dtype\": \"number\",\n        \"std\": 0,\n        \"min\": 0,\n        \"max\": 1,\n        \"num_unique_values\": 2,\n        \"samples\": [\n          1,\n          0\n        ],\n        \"semantic_type\": \"\",\n        \"description\": \"\"\n      }\n    },\n    {\n      \"column\": \"F\",\n      \"properties\": {\n        \"dtype\": \"number\",\n        \"std\": 1.0001562866306153,\n        \"min\": -0.8082505321547311,\n        \"max\": 2.389863084284853,\n        \"num_unique_values\": 12,\n        \"samples\": [\n          0.35469987382329937,\n          1.8083878812958376\n        ],\n        \"semantic_type\": \"\",\n        \"description\": \"\"\n      }\n    },\n    {\n      \"column\": \"FirstPurch\",\n      \"properties\": {\n        \"dtype\": \"number\",\n        \"std\": 1.000156286630638,\n        \"min\": -1.3376323190020394,\n        \"max\": 4.006905014377201,\n        \"num_unique_values\": 48,\n        \"samples\": [\n          0.09492407963569506,\n          2.9600368769111642\n        ],\n        \"semantic_type\": \"\",\n        \"description\": \"\"\n      }\n    },\n    {\n      \"column\": \"GeogBks\",\n      \"properties\": {\n        \"dtype\": \"number\",\n        \"std\": 0,\n        \"min\": 0,\n        \"max\": 1,\n        \"num_unique_values\": 2,\n        \"samples\": [\n          1,\n          0\n        ],\n        \"semantic_type\": \"\",\n        \"description\": \"\"\n      }\n    },\n    {\n      \"column\": \"ItalArt\",\n      \"properties\": {\n        \"dtype\": \"number\",\n        \"std\": 0,\n        \"min\": 0,\n        \"max\": 1,\n        \"num_unique_values\": 2,\n        \"samples\": [\n          1,\n          0\n        ],\n        \"semantic_type\": \"\",\n        \"description\": \"\"\n      }\n    },\n    {\n      \"column\": \"ItalAtlas\",\n      \"properties\": {\n        \"dtype\": \"number\",\n        \"std\": 0,\n        \"min\": 0,\n        \"max\": 1,\n        \"num_unique_values\": 2,\n        \"samples\": [\n          1,\n          0\n        ],\n        \"semantic_type\": \"\",\n        \"description\": \"\"\n      }\n    },\n    {\n      \"column\": \"ItalCook\",\n      \"properties\": {\n        \"dtype\": \"number\",\n        \"std\": 0,\n        \"min\": 0,\n        \"max\": 1,\n        \"num_unique_values\": 2,\n        \"samples\": [\n          1,\n          0\n        ],\n        \"semantic_type\": \"\",\n        \"description\": \"\"\n      }\n    },\n    {\n      \"column\": \"M\",\n      \"properties\": {\n        \"dtype\": \"number\",\n        \"std\": 1.0001562866306353,\n        \"min\": -1.921864239519244,\n        \"max\": 2.6586780786340327,\n        \"num_unique_values\": 437,\n        \"samples\": [\n          2.449566364109644,\n          1.0256151652054732\n        ],\n        \"semantic_type\": \"\",\n        \"description\": \"\"\n      }\n    },\n    {\n      \"column\": \"R\",\n      \"properties\": {\n        \"dtype\": \"number\",\n        \"std\": 1.0001562866306255,\n        \"min\": -1.724027986086824,\n        \"max\": 1.6289116093685245,\n        \"num_unique_values\": 19,\n        \"samples\": [\n          0.045579022625721145,\n          1.5357743983836538\n        ],\n        \"semantic_type\": \"\",\n        \"description\": \"\"\n      }\n    },\n    {\n      \"column\": \"RefBks\",\n      \"properties\": {\n        \"dtype\": \"number\",\n        \"std\": 0,\n        \"min\": 0,\n        \"max\": 1,\n        \"num_unique_values\": 2,\n        \"samples\": [\n          1,\n          0\n        ],\n        \"semantic_type\": \"\",\n        \"description\": \"\"\n      }\n    },\n    {\n      \"column\": \"YouthBks\",\n      \"properties\": {\n        \"dtype\": \"number\",\n        \"std\": 0,\n        \"min\": 0,\n        \"max\": 1,\n        \"num_unique_values\": 2,\n        \"samples\": [\n          1,\n          0\n        ],\n        \"semantic_type\": \"\",\n        \"description\": \"\"\n      }\n    },\n    {\n      \"column\": \"Gender\",\n      \"properties\": {\n        \"dtype\": \"number\",\n        \"std\": 0,\n        \"min\": 0,\n        \"max\": 1,\n        \"num_unique_values\": 2,\n        \"samples\": [\n          1,\n          0\n        ],\n        \"semantic_type\": \"\",\n        \"description\": \"\"\n      }\n    }\n  ]\n}"
            }
          },
          "metadata": {},
          "execution_count": 216
        }
      ]
    },
    {
      "cell_type": "markdown",
      "source": [
        "# Train Test Split"
      ],
      "metadata": {
        "id": "UQFZ-jkpdjQo"
      }
    },
    {
      "cell_type": "code",
      "source": [
        "# Train Test Split.\n",
        "from sklearn.model_selection import train_test_split\n",
        "\n",
        "# Separate test data:\n",
        "train_and_val, test, labels_train_and_val, labels_test \\\n",
        "    = train_test_split(df_scaled, labels, test_size=0.2, random_state=42)\n",
        "\n",
        "clean_train_and_val, clean_test, clean_labels_train_and_val, clean_labels_test \\\n",
        "    = train_test_split(df_scaled_clean, labels_clean, test_size=0.2, random_state=42)\n",
        "\n",
        "train_and_val_2, test_2, labels_train_and_val_2, labels_test_2 \\\n",
        "    = train_test_split(df_scaled_2, labels, test_size=0.2, random_state=42)\n",
        "\n",
        "c2_train_and_val, c2_test, c2_labels_train_and_val, c2_labels_test \\\n",
        "    = train_test_split(df_scaled_clean_2, labels_clean, test_size=0.2, random_state=42)"
      ],
      "metadata": {
        "id": "rW8LVGjjx7Dg"
      },
      "execution_count": 217,
      "outputs": []
    },
    {
      "cell_type": "code",
      "source": [
        "print(train_and_val.shape)\n",
        "print(test.shape)"
      ],
      "metadata": {
        "colab": {
          "base_uri": "https://localhost:8080/"
        },
        "id": "pRVPGjR4dpSS",
        "outputId": "6f781c84-9058-4d02-8e45-6e9bae006540"
      },
      "execution_count": 218,
      "outputs": [
        {
          "output_type": "stream",
          "name": "stdout",
          "text": [
            "(2560, 15)\n",
            "(640, 15)\n"
          ]
        }
      ]
    },
    {
      "cell_type": "markdown",
      "source": [
        "# Confusion Matrix helper function"
      ],
      "metadata": {
        "id": "WxMBisLxgoj8"
      }
    },
    {
      "cell_type": "code",
      "source": [
        "# Helper function. For confusion matrix.\n",
        "# Re-used code block from: MJC_post_EDA_Data_Mining_Midterm.ipynb [1].\n",
        "\n",
        "import tensorflow as tf\n",
        "# !apt-get install inkscape -y\n",
        "!which inkscape\n",
        "!inkscape --version\n",
        "\n",
        "import matplotlib.pyplot as plt\n",
        "import seaborn as sns\n",
        "from sklearn.metrics import confusion_matrix\n",
        "import logging\n",
        "\n",
        "# Suppress warnings:\n",
        "tf.get_logger().setLevel(logging.ERROR)\n",
        "\n",
        "def print_confusion_matrix(y_test, y_pred) -> None:\n",
        "  cm = confusion_matrix(y_test, y_pred)\n",
        "  # print(\"Confusion Matrix:\")\n",
        "  # print(cm)\n",
        "\n",
        "  plt.figure(figsize=(2, 1.5))\n",
        "  sns.heatmap(cm, annot=True, fmt='d', cmap='Blues',\n",
        "              xticklabels=['NP', 'P'],\n",
        "              yticklabels=['NP', 'P'],\n",
        "              cbar=False)\n",
        "  plt.ylabel('Actual')\n",
        "  plt.xlabel('Predicted')\n",
        "  plt.title('Confusion Matrix')\n",
        "  plt.show()\n",
        "  # Precision, recall, F1:,\n",
        "  TP = cm[1, 1]  # True Positives\n",
        "  FP = cm[0, 1]  # False Positives\n",
        "  TN = cm[0, 0]  # True Negatives\n",
        "  FN = cm[1, 0]  # False Negatives\n",
        "\n",
        "  precision, recall, f1, accuracy = 0, 0, 0, 0\n",
        "  if TP != 0:\n",
        "    precision = TP / (TP + FP)\n",
        "    recall = TP / (TP + FN)\n",
        "  if precision + recall != 0:\n",
        "    f1 = 2 * precision * recall / (precision + recall)\n",
        "  if TP + TN + FP + FN != 0:\n",
        "    accuracy = (TP + TN) / (TP + TN + FP + FN)\n",
        "  auc = tf.keras.metrics.AUC()\n",
        "  auc.update_state(y_test, y_pred)\n",
        "  print(f\"(Accuracy: {accuracy:.3f})\")\n",
        "  print(f\"Precision: {precision:.3f}\")\n",
        "  print(f\"Recall:    {recall:.3f}\")\n",
        "  print(f\"F1:        {f1:.3f}\")\n",
        "  print(f\"AUC:       {auc.result().numpy():.3f}\")"
      ],
      "metadata": {
        "colab": {
          "base_uri": "https://localhost:8080/"
        },
        "id": "SaWleNhKwfgt",
        "outputId": "b1b7f214-75a6-480f-d932-93ec2cb3d910"
      },
      "execution_count": 219,
      "outputs": [
        {
          "output_type": "stream",
          "name": "stdout",
          "text": [
            "/bin/bash: line 1: inkscape: command not found\n"
          ]
        }
      ]
    },
    {
      "cell_type": "markdown",
      "source": [
        "# Methods"
      ],
      "metadata": {
        "id": "TM5Y0HkRe-gX"
      }
    },
    {
      "cell_type": "code",
      "source": [
        "# Establish a baseline. Borrowed code [1].\n",
        "\n",
        "print(\"These are the stats if we just always guess the most common class:\")\n",
        "\n",
        "# Confusion Matrix:\n",
        "y_pred = [False] * len(labels)\n",
        "print_confusion_matrix(labels.values, y_pred)"
      ],
      "metadata": {
        "colab": {
          "base_uri": "https://localhost:8080/",
          "height": 320
        },
        "id": "ItlstpVZxH7d",
        "outputId": "559f7c0d-4212-48fe-987e-b6d75b4c5c91"
      },
      "execution_count": 220,
      "outputs": [
        {
          "output_type": "stream",
          "name": "stdout",
          "text": [
            "These are the stats if we just always guess the most common class:\n"
          ]
        },
        {
          "output_type": "display_data",
          "data": {
            "text/plain": [
              "<Figure size 200x150 with 1 Axes>"
            ],
            "image/png": "[encoded data removed]"
          },
          "metadata": {}
        },
        {
          "output_type": "stream",
          "name": "stdout",
          "text": [
            "(Accuracy: 0.916)\n",
            "Precision: 0.000\n",
            "Recall:    0.000\n",
            "F1:        0.000\n",
            "AUC:       0.500\n"
          ]
        }
      ]
    },
    {
      "cell_type": "markdown",
      "source": [
        "# Decision Tree"
      ],
      "metadata": {
        "id": "HRcuXWlXNO-G"
      }
    },
    {
      "cell_type": "code",
      "source": [
        "# Tree\n",
        "from sklearn.tree import DecisionTreeClassifier\n",
        "from sklearn.model_selection import cross_val_score\n",
        "from sklearn.metrics import accuracy_score\n",
        "\n",
        "model = DecisionTreeClassifier(random_state=42)\n",
        "model.fit(train_and_val, labels_train_and_val)\n",
        "y_pred = model.predict(test)\n",
        "print(\"Decision Tree\")\n",
        "print_confusion_matrix(labels_test, y_pred)\n",
        "\n",
        "# With SMOTE:\n",
        "\n",
        "from imblearn.over_sampling import SMOTE\n",
        "\n",
        "# Apply SMOTE to the training set to oversample the minority class\n",
        "smote = SMOTE(sampling_strategy='auto', random_state=42)  # 'auto' oversamples minority class to match majority class size\n",
        "X_resampled, y_resampled = smote.fit_resample(train_and_val, labels_train_and_val)\n",
        "\n",
        "model.fit(X_resampled, y_resampled)\n",
        "y_pred = model.predict(test)\n",
        "print()\n",
        "print(\"Decision Tree plus SMOTE\")\n",
        "print_confusion_matrix(labels_test, y_pred)"
      ],
      "metadata": {
        "colab": {
          "base_uri": "https://localhost:8080/",
          "height": 640
        },
        "id": "k8EGR3TgM1W7",
        "outputId": "0d47f1fb-fc47-4763-cf59-e55e9ef11614"
      },
      "execution_count": 221,
      "outputs": [
        {
          "output_type": "stream",
          "name": "stdout",
          "text": [
            "Decision Tree\n"
          ]
        },
        {
          "output_type": "display_data",
          "data": {
            "text/plain": [
              "<Figure size 200x150 with 1 Axes>"
            ],
            "image/png": "[encoded data removed]"
          },
          "metadata": {}
        },
        {
          "output_type": "stream",
          "name": "stdout",
          "text": [
            "(Accuracy: 0.833)\n",
            "Precision: 0.110\n",
            "Recall:    0.160\n",
            "F1:        0.130\n",
            "AUC:       0.525\n",
            "\n",
            "Decision Tree plus SMOTE\n"
          ]
        },
        {
          "output_type": "display_data",
          "data": {
            "text/plain": [
              "<Figure size 200x150 with 1 Axes>"
            ],
            "image/png": "[encoded data removed]"
          },
          "metadata": {}
        },
        {
          "output_type": "stream",
          "name": "stdout",
          "text": [
            "(Accuracy: 0.811)\n",
            "Precision: 0.110\n",
            "Recall:    0.200\n",
            "F1:        0.142\n",
            "AUC:       0.531\n"
          ]
        }
      ]
    },
    {
      "cell_type": "code",
      "source": [
        "model.fit(clean_train_and_val, clean_labels_train_and_val)\n",
        "y_pred = model.predict(clean_test)\n",
        "print(\"Decsion Tree - using 'clean' data:\")\n",
        "print_confusion_matrix(clean_labels_test, y_pred)\n",
        "\n",
        "# With SMOTE:\n",
        "X_resampled, y_resampled = smote.fit_resample(clean_train_and_val, clean_labels_train_and_val)\n",
        "model.fit(X_resampled, y_resampled)\n",
        "y_pred = model.predict(clean_test)\n",
        "print()\n",
        "print(\"Decision Tree - using 'clean' data plus SMOTE:\")\n",
        "print_confusion_matrix(clean_labels_test, y_pred)"
      ],
      "metadata": {
        "colab": {
          "base_uri": "https://localhost:8080/",
          "height": 640
        },
        "id": "1fF8nY6mUA3m",
        "outputId": "054810fe-3e4c-4aca-e29c-160abf6bd656"
      },
      "execution_count": 222,
      "outputs": [
        {
          "output_type": "stream",
          "name": "stdout",
          "text": [
            "Decsion Tree - using 'clean' data:\n"
          ]
        },
        {
          "output_type": "display_data",
          "data": {
            "text/plain": [
              "<Figure size 200x150 with 1 Axes>"
            ],
            "image/png": "[encoded data removed]"
          },
          "metadata": {}
        },
        {
          "output_type": "stream",
          "name": "stdout",
          "text": [
            "(Accuracy: 0.841)\n",
            "Precision: 0.081\n",
            "Recall:    0.100\n",
            "F1:        0.089\n",
            "AUC:       0.502\n",
            "\n",
            "Decision Tree - using 'clean' data plus SMOTE:\n"
          ]
        },
        {
          "output_type": "display_data",
          "data": {
            "text/plain": [
              "<Figure size 200x150 with 1 Axes>"
            ],
            "image/png": "[encoded data removed]"
          },
          "metadata": {}
        },
        {
          "output_type": "stream",
          "name": "stdout",
          "text": [
            "(Accuracy: 0.812)\n",
            "Precision: 0.093\n",
            "Recall:    0.160\n",
            "F1:        0.118\n",
            "AUC:       0.514\n"
          ]
        }
      ]
    },
    {
      "cell_type": "markdown",
      "source": [
        "SMOTE provides a slight boost to both F1 and AUC.\n",
        "\n",
        "Notably, accuracy (which we consider not a primary metric for this probelm) is reduced.\n",
        "\n",
        "True for both original and 'clean' data."
      ],
      "metadata": {
        "id": "hzUdBlPYNm6r"
      }
    },
    {
      "cell_type": "code",
      "source": [
        "# Decision tree using binary data:\n",
        "model = DecisionTreeClassifier(random_state=42)\n",
        "model.fit(train_and_val_2, labels_train_and_val_2)\n",
        "y_pred = model.predict(test)\n",
        "print(\"Decision Tree - using binary data:\")\n",
        "print_confusion_matrix(labels_test, y_pred)\n",
        "\n",
        "# With SMOTE:\n",
        "X_resampled, y_resampled = smote.fit_resample(train_and_val_2, labels_train_and_val_2)\n",
        "model.fit(X_resampled, y_resampled)\n",
        "y_pred = model.predict(test)\n",
        "print()\n",
        "print(\"Decision Tree - using binary data plus SMOTE:\")\n",
        "print_confusion_matrix(labels_test, y_pred)\n",
        "print('-------------------------------------------------------------------\\n')\n",
        "\n",
        "# Decision tree using 'clean' binary data:\n",
        "model = DecisionTreeClassifier(random_state=42)\n",
        "model.fit(c2_train_and_val, c2_labels_train_and_val)\n",
        "y_pred = model.predict(clean_test)\n",
        "print(\"Decision Tree - using 'clean' binary data:\")\n",
        "print_confusion_matrix(clean_labels_test, y_pred)\n",
        "\n",
        "# With SMOTE:\n",
        "X_resampled, y_resampled = smote.fit_resample(c2_train_and_val, c2_labels_train_and_val)\n",
        "model.fit(X_resampled, y_resampled)\n",
        "y_pred = model.predict(test)\n",
        "print()\n",
        "print(\"Decision Tree - using 'clean' binary data plus SMOTE:\")\n",
        "print_confusion_matrix(labels_test, y_pred)"
      ],
      "metadata": {
        "colab": {
          "base_uri": "https://localhost:8080/",
          "height": 1000
        },
        "id": "dos3Pvd3vboK",
        "outputId": "c1469a57-bb6d-4acc-83ea-b9d202e75a68"
      },
      "execution_count": 223,
      "outputs": [
        {
          "output_type": "stream",
          "name": "stdout",
          "text": [
            "Decision Tree - using binary data:\n"
          ]
        },
        {
          "output_type": "display_data",
          "data": {
            "text/plain": [
              "<Figure size 200x150 with 1 Axes>"
            ],
            "image/png": "[encoded data removed]"
          },
          "metadata": {}
        },
        {
          "output_type": "stream",
          "name": "stdout",
          "text": [
            "(Accuracy: 0.852)\n",
            "Precision: 0.131\n",
            "Recall:    0.160\n",
            "F1:        0.144\n",
            "AUC:       0.535\n",
            "\n",
            "Decision Tree - using binary data plus SMOTE:\n"
          ]
        },
        {
          "output_type": "display_data",
          "data": {
            "text/plain": [
              "<Figure size 200x150 with 1 Axes>"
            ],
            "image/png": "[encoded data removed]"
          },
          "metadata": {}
        },
        {
          "output_type": "stream",
          "name": "stdout",
          "text": [
            "(Accuracy: 0.780)\n",
            "Precision: 0.083\n",
            "Recall:    0.180\n",
            "F1:        0.113\n",
            "AUC:       0.505\n",
            "-------------------------------------------------------------------\n",
            "\n",
            "Decision Tree - using 'clean' binary data:\n"
          ]
        },
        {
          "output_type": "display_data",
          "data": {
            "text/plain": [
              "<Figure size 200x150 with 1 Axes>"
            ],
            "image/png": "[encoded data removed]"
          },
          "metadata": {}
        },
        {
          "output_type": "stream",
          "name": "stdout",
          "text": [
            "(Accuracy: 0.816)\n",
            "Precision: 0.075\n",
            "Recall:    0.120\n",
            "F1:        0.092\n",
            "AUC:       0.497\n",
            "\n",
            "Decision Tree - using 'clean' binary data plus SMOTE:\n"
          ]
        },
        {
          "output_type": "display_data",
          "data": {
            "text/plain": [
              "<Figure size 200x150 with 1 Axes>"
            ],
            "image/png": "[encoded data removed]"
          },
          "metadata": {}
        },
        {
          "output_type": "stream",
          "name": "stdout",
          "text": [
            "(Accuracy: 0.703)\n",
            "Precision: 0.062\n",
            "Recall:    0.200\n",
            "F1:        0.095\n",
            "AUC:       0.473\n"
          ]
        }
      ]
    },
    {
      "cell_type": "markdown",
      "source": [
        "For the case of 'binary' data (purchase stats for each category reduced to a binary purchased/not-purchased value), SMOTE reduces AUC in both cases.\n",
        "\n",
        "The binary data Decision Tree without SMOTE gives roughly equal results to the original data Decision Tree with SMOTE.\n",
        "\n",
        "Best Results for a Decision Tree:\n",
        "\n",
        "F1:        0.144\n",
        "\n",
        "AUC:       0.535"
      ],
      "metadata": {
        "id": "w_tZXkQSOwyk"
      }
    },
    {
      "cell_type": "markdown",
      "source": [
        "# NN"
      ],
      "metadata": {
        "id": "oMiue65AAi23"
      }
    },
    {
      "cell_type": "code",
      "source": [
        "# Quick and simple: run a NN on both cases:\n",
        "\n",
        "import tensorflow as tf\n",
        "from tensorflow.keras import layers, models, metrics\n",
        "\n",
        "model = models.Sequential([\n",
        "    layers.Dense(15, activation='relu', input_shape=(15,)),\n",
        "    layers.Dense(15, activation='relu'),\n",
        "    layers.Dense(1, activation='sigmoid')\n",
        "])\n",
        "\n",
        "model_clean = models.Sequential.from_config(model.get_config())\n",
        "model_2 = models.Sequential.from_config(model.get_config())\n",
        "model_2_clean = models.Sequential.from_config(model.get_config())"
      ],
      "metadata": {
        "colab": {
          "base_uri": "https://localhost:8080/"
        },
        "id": "IfMX9r42K3OV",
        "outputId": "a18bf48b-7bae-42a8-a840-cc4cea8b8eef"
      },
      "execution_count": 224,
      "outputs": [
        {
          "output_type": "stream",
          "name": "stderr",
          "text": [
            "/usr/local/lib/python3.10/dist-packages/keras/src/layers/core/dense.py:87: UserWarning: Do not pass an `input_shape`/`input_dim` argument to a layer. When using Sequential models, prefer using an `Input(shape)` object as the first layer in the model instead.\n",
            "  super().__init__(activity_regularizer=activity_regularizer, **kwargs)\n"
          ]
        }
      ]
    },
    {
      "cell_type": "code",
      "source": [
        "import numpy as np\n",
        "\n",
        "# Get unique class labels and their counts\n",
        "unique_classes, class_counts = np.unique(labels_train_and_val, return_counts=True)\n",
        "\n",
        "# Print out the class distribution\n",
        "print(\"Class Distribution:\")\n",
        "for class_label, count in zip(unique_classes, class_counts):\n",
        "    print(f\"Class {class_label}: {count} samples\")"
      ],
      "metadata": {
        "colab": {
          "base_uri": "https://localhost:8080/"
        },
        "id": "7qZkmxqBC5iw",
        "outputId": "65ab6574-aaba-4e00-8346-2f3c9b2f90a3"
      },
      "execution_count": 225,
      "outputs": [
        {
          "output_type": "stream",
          "name": "stdout",
          "text": [
            "Class Distribution:\n",
            "Class 0: 2340 samples\n",
            "Class 1: 220 samples\n"
          ]
        }
      ]
    },
    {
      "cell_type": "code",
      "source": [
        "from imblearn.over_sampling import SMOTE\n",
        "\n",
        "# Apply SMOTE to the training set to oversample the minority class\n",
        "smote = SMOTE(sampling_strategy='auto', random_state=42)  # 'auto' oversamples minority class to match majority class size\n",
        "X_resampled, y_resampled = smote.fit_resample(train_and_val, labels_train_and_val)\n",
        "\n",
        "model.compile(optimizer='adam',\n",
        "              loss='binary_crossentropy',\n",
        "              metrics=['accuracy'])\n",
        "\n",
        "history = model.fit(\n",
        "    X_resampled,\n",
        "    y_resampled,\n",
        "    epochs=12,\n",
        "    batch_size=32,\n",
        "    validation_split=0.2  # This splits 20% of the data for validation automatically\n",
        ")"
      ],
      "metadata": {
        "colab": {
          "base_uri": "https://localhost:8080/"
        },
        "id": "pYLB25hXxSsc",
        "outputId": "d054db8c-a05d-4655-de19-5534a98e879d"
      },
      "execution_count": 226,
      "outputs": [
        {
          "output_type": "stream",
          "name": "stdout",
          "text": [
            "Epoch 1/12\n",
            "\u001b[1m117/117\u001b[0m \u001b[32m━━━━━━━━━━━━━━━━━━━━\u001b[0m\u001b[37m\u001b[0m \u001b[1m2s\u001b[0m 5ms/step - accuracy: 0.5144 - loss: 0.6944 - val_accuracy: 0.0588 - val_loss: 0.9039\n",
            "Epoch 2/12\n",
            "\u001b[1m117/117\u001b[0m \u001b[32m━━━━━━━━━━━━━━━━━━━━\u001b[0m\u001b[37m\u001b[0m \u001b[1m1s\u001b[0m 2ms/step - accuracy: 0.6185 - loss: 0.6441 - val_accuracy: 0.1068 - val_loss: 0.9643\n",
            "Epoch 3/12\n",
            "\u001b[1m117/117\u001b[0m \u001b[32m━━━━━━━━━━━━━━━━━━━━\u001b[0m\u001b[37m\u001b[0m \u001b[1m0s\u001b[0m 2ms/step - accuracy: 0.6504 - loss: 0.6247 - val_accuracy: 0.1645 - val_loss: 0.9372\n",
            "Epoch 4/12\n",
            "\u001b[1m117/117\u001b[0m \u001b[32m━━━━━━━━━━━━━━━━━━━━\u001b[0m\u001b[37m\u001b[0m \u001b[1m0s\u001b[0m 2ms/step - accuracy: 0.6602 - loss: 0.6094 - val_accuracy: 0.2457 - val_loss: 0.8916\n",
            "Epoch 5/12\n",
            "\u001b[1m117/117\u001b[0m \u001b[32m━━━━━━━━━━━━━━━━━━━━\u001b[0m\u001b[37m\u001b[0m \u001b[1m0s\u001b[0m 2ms/step - accuracy: 0.6803 - loss: 0.5939 - val_accuracy: 0.2938 - val_loss: 0.8792\n",
            "Epoch 6/12\n",
            "\u001b[1m117/117\u001b[0m \u001b[32m━━━━━━━━━━━━━━━━━━━━\u001b[0m\u001b[37m\u001b[0m \u001b[1m1s\u001b[0m 2ms/step - accuracy: 0.6876 - loss: 0.5831 - val_accuracy: 0.3024 - val_loss: 0.9011\n",
            "Epoch 7/12\n",
            "\u001b[1m117/117\u001b[0m \u001b[32m━━━━━━━━━━━━━━━━━━━━\u001b[0m\u001b[37m\u001b[0m \u001b[1m0s\u001b[0m 2ms/step - accuracy: 0.6898 - loss: 0.5772 - val_accuracy: 0.3568 - val_loss: 0.8407\n",
            "Epoch 8/12\n",
            "\u001b[1m117/117\u001b[0m \u001b[32m━━━━━━━━━━━━━━━━━━━━\u001b[0m\u001b[37m\u001b[0m \u001b[1m0s\u001b[0m 2ms/step - accuracy: 0.7055 - loss: 0.5581 - val_accuracy: 0.3568 - val_loss: 0.8828\n",
            "Epoch 9/12\n",
            "\u001b[1m117/117\u001b[0m \u001b[32m━━━━━━━━━━━━━━━━━━━━\u001b[0m\u001b[37m\u001b[0m \u001b[1m0s\u001b[0m 2ms/step - accuracy: 0.7217 - loss: 0.5503 - val_accuracy: 0.4412 - val_loss: 0.7930\n",
            "Epoch 10/12\n",
            "\u001b[1m117/117\u001b[0m \u001b[32m━━━━━━━━━━━━━━━━━━━━\u001b[0m\u001b[37m\u001b[0m \u001b[1m0s\u001b[0m 2ms/step - accuracy: 0.7303 - loss: 0.5325 - val_accuracy: 0.4423 - val_loss: 0.7965\n",
            "Epoch 11/12\n",
            "\u001b[1m117/117\u001b[0m \u001b[32m━━━━━━━━━━━━━━━━━━━━\u001b[0m\u001b[37m\u001b[0m \u001b[1m0s\u001b[0m 2ms/step - accuracy: 0.7093 - loss: 0.5555 - val_accuracy: 0.3985 - val_loss: 0.8360\n",
            "Epoch 12/12\n",
            "\u001b[1m117/117\u001b[0m \u001b[32m━━━━━━━━━━━━━━━━━━━━\u001b[0m\u001b[37m\u001b[0m \u001b[1m0s\u001b[0m 2ms/step - accuracy: 0.7310 - loss: 0.5321 - val_accuracy: 0.3964 - val_loss: 0.8675\n"
          ]
        }
      ]
    },
    {
      "cell_type": "code",
      "source": [
        "X_resampled, y_resampled = smote.fit_resample(clean_train_and_val, clean_labels_train_and_val)\n",
        "\n",
        "model_clean.compile(optimizer='adam',\n",
        "              loss='binary_crossentropy',\n",
        "              metrics=['accuracy'])\n",
        "history_clean = model_clean.fit(X_resampled, y_resampled, epochs=8, batch_size=32, validation_split=0.2)"
      ],
      "metadata": {
        "colab": {
          "base_uri": "https://localhost:8080/"
        },
        "id": "XdANH8iWOM2r",
        "outputId": "a0f9300c-5a7c-4d54-c681-09fa8f24171c"
      },
      "execution_count": 227,
      "outputs": [
        {
          "output_type": "stream",
          "name": "stdout",
          "text": [
            "Epoch 1/8\n",
            "\u001b[1m117/117\u001b[0m \u001b[32m━━━━━━━━━━━━━━━━━━━━\u001b[0m\u001b[37m\u001b[0m \u001b[1m1s\u001b[0m 4ms/step - accuracy: 0.6157 - loss: 0.6457 - val_accuracy: 0.2147 - val_loss: 0.9239\n",
            "Epoch 2/8\n",
            "\u001b[1m117/117\u001b[0m \u001b[32m━━━━━━━━━━━━━━━━━━━━\u001b[0m\u001b[37m\u001b[0m \u001b[1m0s\u001b[0m 2ms/step - accuracy: 0.6338 - loss: 0.6273 - val_accuracy: 0.2137 - val_loss: 0.9236\n",
            "Epoch 3/8\n",
            "\u001b[1m117/117\u001b[0m \u001b[32m━━━━━━━━━━━━━━━━━━━━\u001b[0m\u001b[37m\u001b[0m \u001b[1m0s\u001b[0m 2ms/step - accuracy: 0.6411 - loss: 0.6228 - val_accuracy: 0.2212 - val_loss: 0.9290\n",
            "Epoch 4/8\n",
            "\u001b[1m117/117\u001b[0m \u001b[32m━━━━━━━━━━━━━━━━━━━━\u001b[0m\u001b[37m\u001b[0m \u001b[1m0s\u001b[0m 2ms/step - accuracy: 0.6726 - loss: 0.5991 - val_accuracy: 0.2543 - val_loss: 0.8918\n",
            "Epoch 5/8\n",
            "\u001b[1m117/117\u001b[0m \u001b[32m━━━━━━━━━━━━━━━━━━━━\u001b[0m\u001b[37m\u001b[0m \u001b[1m0s\u001b[0m 2ms/step - accuracy: 0.6798 - loss: 0.5918 - val_accuracy: 0.2746 - val_loss: 0.8698\n",
            "Epoch 6/8\n",
            "\u001b[1m117/117\u001b[0m \u001b[32m━━━━━━━━━━━━━━━━━━━━\u001b[0m\u001b[37m\u001b[0m \u001b[1m0s\u001b[0m 2ms/step - accuracy: 0.6777 - loss: 0.5828 - val_accuracy: 0.3066 - val_loss: 0.8408\n",
            "Epoch 7/8\n",
            "\u001b[1m117/117\u001b[0m \u001b[32m━━━━━━━━━━━━━━━━━━━━\u001b[0m\u001b[37m\u001b[0m \u001b[1m0s\u001b[0m 2ms/step - accuracy: 0.6839 - loss: 0.5732 - val_accuracy: 0.3066 - val_loss: 0.8477\n",
            "Epoch 8/8\n",
            "\u001b[1m117/117\u001b[0m \u001b[32m━━━━━━━━━━━━━━━━━━━━\u001b[0m\u001b[37m\u001b[0m \u001b[1m0s\u001b[0m 2ms/step - accuracy: 0.6789 - loss: 0.5746 - val_accuracy: 0.3483 - val_loss: 0.8382\n"
          ]
        }
      ]
    },
    {
      "cell_type": "code",
      "source": [
        "X_resampled, y_resampled = smote.fit_resample(train_and_val_2, labels_train_and_val_2)\n",
        "\n",
        "model_2.compile(optimizer='adam',\n",
        "              loss='binary_crossentropy',\n",
        "              metrics=['accuracy'])\n",
        "history_2 = model_2.fit(X_resampled, y_resampled, epochs=10, batch_size=32, validation_split=0.2)\n",
        "print()\n",
        "print()\n",
        "\n",
        "X_resampled, y_resampled = smote.fit_resample(c2_train_and_val, c2_labels_train_and_val)\n",
        "\n",
        "model_2_clean.compile(optimizer='adam',\n",
        "              loss='binary_crossentropy',\n",
        "              metrics=['accuracy'])\n",
        "history_2_clean = model_2_clean.fit(X_resampled, y_resampled, epochs=10, batch_size=32, validation_split=0.2)"
      ],
      "metadata": {
        "colab": {
          "base_uri": "https://localhost:8080/"
        },
        "id": "6iDboBCixBUI",
        "outputId": "d40dafb9-98fb-45e5-93fa-032b85e46b17"
      },
      "execution_count": 228,
      "outputs": [
        {
          "output_type": "stream",
          "name": "stdout",
          "text": [
            "Epoch 1/10\n",
            "\u001b[1m117/117\u001b[0m \u001b[32m━━━━━━━━━━━━━━━━━━━━\u001b[0m\u001b[37m\u001b[0m \u001b[1m2s\u001b[0m 4ms/step - accuracy: 0.5999 - loss: 0.6621 - val_accuracy: 0.0011 - val_loss: 1.0018\n",
            "Epoch 2/10\n",
            "\u001b[1m117/117\u001b[0m \u001b[32m━━━━━━━━━━━━━━━━━━━━\u001b[0m\u001b[37m\u001b[0m \u001b[1m1s\u001b[0m 4ms/step - accuracy: 0.6302 - loss: 0.6295 - val_accuracy: 0.0759 - val_loss: 0.9676\n",
            "Epoch 3/10\n",
            "\u001b[1m117/117\u001b[0m \u001b[32m━━━━━━━━━━━━━━━━━━━━\u001b[0m\u001b[37m\u001b[0m \u001b[1m0s\u001b[0m 3ms/step - accuracy: 0.6464 - loss: 0.6181 - val_accuracy: 0.1560 - val_loss: 0.9801\n",
            "Epoch 4/10\n",
            "\u001b[1m117/117\u001b[0m \u001b[32m━━━━━━━━━━━━━━━━━━━━\u001b[0m\u001b[37m\u001b[0m \u001b[1m0s\u001b[0m 3ms/step - accuracy: 0.6609 - loss: 0.6003 - val_accuracy: 0.2415 - val_loss: 0.9104\n",
            "Epoch 5/10\n",
            "\u001b[1m117/117\u001b[0m \u001b[32m━━━━━━━━━━━━━━━━━━━━\u001b[0m\u001b[37m\u001b[0m \u001b[1m1s\u001b[0m 4ms/step - accuracy: 0.6743 - loss: 0.5865 - val_accuracy: 0.2821 - val_loss: 0.9032\n",
            "Epoch 6/10\n",
            "\u001b[1m117/117\u001b[0m \u001b[32m━━━━━━━━━━━━━━━━━━━━\u001b[0m\u001b[37m\u001b[0m \u001b[1m1s\u001b[0m 4ms/step - accuracy: 0.6792 - loss: 0.5881 - val_accuracy: 0.4188 - val_loss: 0.7930\n",
            "Epoch 7/10\n",
            "\u001b[1m117/117\u001b[0m \u001b[32m━━━━━━━━━━━━━━━━━━━━\u001b[0m\u001b[37m\u001b[0m \u001b[1m1s\u001b[0m 3ms/step - accuracy: 0.6893 - loss: 0.5761 - val_accuracy: 0.3835 - val_loss: 0.8369\n",
            "Epoch 8/10\n",
            "\u001b[1m117/117\u001b[0m \u001b[32m━━━━━━━━━━━━━━━━━━━━\u001b[0m\u001b[37m\u001b[0m \u001b[1m0s\u001b[0m 2ms/step - accuracy: 0.6958 - loss: 0.5684 - val_accuracy: 0.3953 - val_loss: 0.8406\n",
            "Epoch 9/10\n",
            "\u001b[1m117/117\u001b[0m \u001b[32m━━━━━━━━━━━━━━━━━━━━\u001b[0m\u001b[37m\u001b[0m \u001b[1m0s\u001b[0m 2ms/step - accuracy: 0.6982 - loss: 0.5594 - val_accuracy: 0.3953 - val_loss: 0.8350\n",
            "Epoch 10/10\n",
            "\u001b[1m117/117\u001b[0m \u001b[32m━━━━━━━━━━━━━━━━━━━━\u001b[0m\u001b[37m\u001b[0m \u001b[1m1s\u001b[0m 2ms/step - accuracy: 0.7079 - loss: 0.5518 - val_accuracy: 0.4071 - val_loss: 0.8285\n",
            "\n",
            "\n",
            "Epoch 1/10\n",
            "\u001b[1m117/117\u001b[0m \u001b[32m━━━━━━━━━━━━━━━━━━━━\u001b[0m\u001b[37m\u001b[0m \u001b[1m1s\u001b[0m 4ms/step - accuracy: 0.5613 - loss: 0.6868 - val_accuracy: 0.0353 - val_loss: 1.0099\n",
            "Epoch 2/10\n",
            "\u001b[1m117/117\u001b[0m \u001b[32m━━━━━━━━━━━━━━━━━━━━\u001b[0m\u001b[37m\u001b[0m \u001b[1m0s\u001b[0m 2ms/step - accuracy: 0.6460 - loss: 0.6372 - val_accuracy: 0.0897 - val_loss: 0.9707\n",
            "Epoch 3/10\n",
            "\u001b[1m117/117\u001b[0m \u001b[32m━━━━━━━━━━━━━━━━━━━━\u001b[0m\u001b[37m\u001b[0m \u001b[1m0s\u001b[0m 2ms/step - accuracy: 0.6510 - loss: 0.6215 - val_accuracy: 0.2308 - val_loss: 0.9506\n",
            "Epoch 4/10\n",
            "\u001b[1m117/117\u001b[0m \u001b[32m━━━━━━━━━━━━━━━━━━━━\u001b[0m\u001b[37m\u001b[0m \u001b[1m0s\u001b[0m 2ms/step - accuracy: 0.6759 - loss: 0.6015 - val_accuracy: 0.2479 - val_loss: 0.9309\n",
            "Epoch 5/10\n",
            "\u001b[1m117/117\u001b[0m \u001b[32m━━━━━━━━━━━━━━━━━━━━\u001b[0m\u001b[37m\u001b[0m \u001b[1m0s\u001b[0m 2ms/step - accuracy: 0.6828 - loss: 0.5897 - val_accuracy: 0.3579 - val_loss: 0.8659\n",
            "Epoch 6/10\n",
            "\u001b[1m117/117\u001b[0m \u001b[32m━━━━━━━━━━━━━━━━━━━━\u001b[0m\u001b[37m\u001b[0m \u001b[1m0s\u001b[0m 2ms/step - accuracy: 0.6832 - loss: 0.5835 - val_accuracy: 0.3632 - val_loss: 0.8789\n",
            "Epoch 7/10\n",
            "\u001b[1m117/117\u001b[0m \u001b[32m━━━━━━━━━━━━━━━━━━━━\u001b[0m\u001b[37m\u001b[0m \u001b[1m0s\u001b[0m 2ms/step - accuracy: 0.6885 - loss: 0.5811 - val_accuracy: 0.3900 - val_loss: 0.8553\n",
            "Epoch 8/10\n",
            "\u001b[1m117/117\u001b[0m \u001b[32m━━━━━━━━━━━━━━━━━━━━\u001b[0m\u001b[37m\u001b[0m \u001b[1m1s\u001b[0m 2ms/step - accuracy: 0.6931 - loss: 0.5719 - val_accuracy: 0.4017 - val_loss: 0.8400\n",
            "Epoch 9/10\n",
            "\u001b[1m117/117\u001b[0m \u001b[32m━━━━━━━━━━━━━━━━━━━━\u001b[0m\u001b[37m\u001b[0m \u001b[1m0s\u001b[0m 2ms/step - accuracy: 0.6932 - loss: 0.5748 - val_accuracy: 0.4412 - val_loss: 0.8169\n",
            "Epoch 10/10\n",
            "\u001b[1m117/117\u001b[0m \u001b[32m━━━━━━━━━━━━━━━━━━━━\u001b[0m\u001b[37m\u001b[0m \u001b[1m0s\u001b[0m 2ms/step - accuracy: 0.7045 - loss: 0.5619 - val_accuracy: 0.3419 - val_loss: 0.9024\n"
          ]
        }
      ]
    },
    {
      "cell_type": "code",
      "source": [
        "# print(\"Metrics stored in history:\")\n",
        "# for metric in history.history.keys():\n",
        "#     print(metric)\n",
        "\n",
        "# print()\n",
        "# print(\"Metrics stored in clean history:\")\n",
        "# for metric in history_clean.history.keys():\n",
        "#     print(metric)"
      ],
      "metadata": {
        "id": "7gCGDkYdbM54"
      },
      "execution_count": 229,
      "outputs": []
    },
    {
      "cell_type": "code",
      "source": [
        "for h in [history, history_clean, history_2, history_2_clean]:\n",
        "  plt.figure(figsize=(12, 4))\n",
        "  for i, (metric, ylabel) in enumerate([('loss', 'Loss'), ('accuracy', 'accuracy')]):\n",
        "      plt.subplot(1, 2, i+1)\n",
        "      # Check if the metric exists in the history\n",
        "      if metric in h.history:\n",
        "          plt.plot(h.history[metric], label=f'Training {ylabel}')\n",
        "      else:\n",
        "          print(f\"Warning: {metric} not found in history.\")\n",
        "      # plt.plot(h.history[metric], label=f'Training {ylabel}')\n",
        "      plt.plot(h.history.get(f'val_{metric}', []), label=f'Validation {ylabel}')\n",
        "      plt.xlabel('Epoch')\n",
        "      plt.ylabel(ylabel)\n",
        "      plt.legend()\n",
        "\n",
        "plt.show()"
      ],
      "metadata": {
        "colab": {
          "base_uri": "https://localhost:8080/",
          "height": 1000
        },
        "id": "kS4jwyHvMH-Y",
        "outputId": "f702f750-33a2-46fb-dc36-8628d7ff9c41"
      },
      "execution_count": 230,
      "outputs": [
        {
          "output_type": "display_data",
          "data": {
            "text/plain": [
              "<Figure size 1200x400 with 2 Axes>"
            ],
            "image/png": "[encoded data removed]"
          },
          "metadata": {}
        },
        {
          "output_type": "display_data",
          "data": {
            "text/plain": [
              "<Figure size 1200x400 with 2 Axes>"
            ],
            "image/png": "[encoded data removed]"
          },
          "metadata": {}
        },
        {
          "output_type": "display_data",
          "data": {
            "text/plain": [
              "<Figure size 1200x400 with 2 Axes>"
            ],
            "image/png": "[encoded data removed]"
          },
          "metadata": {}
        },
        {
          "output_type": "display_data",
          "data": {
            "text/plain": [
              "<Figure size 1200x400 with 2 Axes>"
            ],
            "image/png": "[encoded data removed]"
          },
          "metadata": {}
        }
      ]
    },
    {
      "cell_type": "code",
      "source": [
        "print(labels_test.value_counts())\n",
        "print(labels_test.shape)"
      ],
      "metadata": {
        "colab": {
          "base_uri": "https://localhost:8080/"
        },
        "id": "LmfBnqZoWalK",
        "outputId": "898c57b8-d933-44c3-ed27-4393e12c1664"
      },
      "execution_count": 231,
      "outputs": [
        {
          "output_type": "stream",
          "name": "stdout",
          "text": [
            "Florence\n",
            "0    590\n",
            "1     50\n",
            "Name: count, dtype: int64\n",
            "(640,)\n"
          ]
        }
      ]
    },
    {
      "cell_type": "code",
      "source": [
        "# Apply test data:\n",
        "y_pred = model.predict(test)\n",
        "# convert to 0s and 1s:\n",
        "y_pred = [1 if x > 0.5 else 0 for x in y_pred]\n",
        "print(\"NN:\")\n",
        "print_confusion_matrix(labels_test, y_pred)\n",
        "\n",
        "print()\n",
        "y_pred_clean = model_clean.predict(clean_test)\n",
        "y_pred_clean = [1 if x > 0.5 else 0 for x in y_pred_clean]\n",
        "print(\"NN - using clean data:\")\n",
        "print_confusion_matrix(clean_labels_test, y_pred_clean)\n",
        "\n",
        "print()\n",
        "print()\n",
        "y_pred_2 = model_2.predict(test)\n",
        "y_pred_2 = [1 if x > 0.5 else 0 for x in y_pred_2]\n",
        "print(\"NN - using binary data:\")\n",
        "print_confusion_matrix(labels_test, y_pred_2)\n",
        "\n",
        "print()\n",
        "y_pred_2_clean = model_2_clean.predict(clean_test)\n",
        "y_pred_2_clean = [1 if x > 0.5 else 0 for x in y_pred_2_clean]\n",
        "print(\"NN - using 'clean' binary data:\")\n",
        "print_confusion_matrix(clean_labels_test, y_pred_2_clean)"
      ],
      "metadata": {
        "colab": {
          "base_uri": "https://localhost:8080/",
          "height": 1000
        },
        "id": "Rgzx7b-QUah6",
        "outputId": "dd6c260d-bcb8-44ab-a26d-14b1c626fdb1"
      },
      "execution_count": 232,
      "outputs": [
        {
          "output_type": "stream",
          "name": "stdout",
          "text": [
            "\u001b[1m20/20\u001b[0m \u001b[32m━━━━━━━━━━━━━━━━━━━━\u001b[0m\u001b[37m\u001b[0m \u001b[1m0s\u001b[0m 1ms/step \n",
            "NN:\n"
          ]
        },
        {
          "output_type": "display_data",
          "data": {
            "text/plain": [
              "<Figure size 200x150 with 1 Axes>"
            ],
            "image/png": "[encoded data removed]"
          },
          "metadata": {}
        },
        {
          "output_type": "stream",
          "name": "stdout",
          "text": [
            "(Accuracy: 0.842)\n",
            "Precision: 0.108\n",
            "Recall:    0.140\n",
            "F1:        0.122\n",
            "AUC:       0.521\n",
            "\n",
            "\u001b[1m20/20\u001b[0m \u001b[32m━━━━━━━━━━━━━━━━━━━━\u001b[0m\u001b[37m\u001b[0m \u001b[1m0s\u001b[0m 2ms/step \n",
            "NN - using clean data:\n"
          ]
        },
        {
          "output_type": "display_data",
          "data": {
            "text/plain": [
              "<Figure size 200x150 with 1 Axes>"
            ],
            "image/png": "[encoded data removed]"
          },
          "metadata": {}
        },
        {
          "output_type": "stream",
          "name": "stdout",
          "text": [
            "(Accuracy: 0.852)\n",
            "Precision: 0.174\n",
            "Recall:    0.240\n",
            "F1:        0.202\n",
            "AUC:       0.572\n",
            "\n",
            "\n",
            "\u001b[1m20/20\u001b[0m \u001b[32m━━━━━━━━━━━━━━━━━━━━\u001b[0m\u001b[37m\u001b[0m \u001b[1m0s\u001b[0m 1ms/step \n",
            "NN - using binary data:\n"
          ]
        },
        {
          "output_type": "display_data",
          "data": {
            "text/plain": [
              "<Figure size 200x150 with 1 Axes>"
            ],
            "image/png": "[encoded data removed]"
          },
          "metadata": {}
        },
        {
          "output_type": "stream",
          "name": "stdout",
          "text": [
            "(Accuracy: 0.355)\n",
            "Precision: 0.065\n",
            "Recall:    0.540\n",
            "F1:        0.116\n",
            "AUC:       0.439\n",
            "\n",
            "\u001b[1m20/20\u001b[0m \u001b[32m━━━━━━━━━━━━━━━━━━━━\u001b[0m\u001b[37m\u001b[0m \u001b[1m0s\u001b[0m 1ms/step \n",
            "NN - using 'clean' binary data:\n"
          ]
        },
        {
          "output_type": "display_data",
          "data": {
            "text/plain": [
              "<Figure size 200x150 with 1 Axes>"
            ],
            "image/png": "[encoded data removed]"
          },
          "metadata": {}
        },
        {
          "output_type": "stream",
          "name": "stdout",
          "text": [
            "(Accuracy: 0.483)\n",
            "Precision: 0.090\n",
            "Recall:    0.620\n",
            "F1:        0.158\n",
            "AUC:       0.546\n"
          ]
        }
      ]
    },
    {
      "cell_type": "markdown",
      "source": [
        "The NNs fare vary poorly with the binary versions of the category purchase data.\n",
        "\n",
        "All results shown above are With SMOTE. Results without SMOTE were not as good.\n",
        "\n",
        "Best Results for a NN:\n",
        "\n",
        "F1:        0.181\n",
        "\n",
        "AUC:       0.566\n",
        "\n",
        "('clean' data plus SMOTE, aka 'model_clean')"
      ],
      "metadata": {
        "id": "Bf2C3pZSH9dh"
      }
    },
    {
      "cell_type": "markdown",
      "source": [
        "# Random Forest"
      ],
      "metadata": {
        "id": "24DFoWHmII72"
      }
    },
    {
      "cell_type": "code",
      "source": [
        "# Random Forest.\n",
        "\n",
        "from sklearn.ensemble import RandomForestClassifier\n",
        "from sklearn.model_selection import cross_val_score\n",
        "\n",
        "model = RandomForestClassifier(n_estimators=200, random_state=42)\n",
        "model.fit(train_and_val, labels_train_and_val)\n",
        "\n",
        "# Print list of most important features:\n",
        "importances = model.feature_importances_\n",
        "feature_names = train_and_val.columns\n",
        "sorted_indices = importances.argsort()[::-1]\n",
        "print(\"Feature importance by contribution:\")\n",
        "# Use formatted white space and 4 sig figs:\n",
        "for i in sorted_indices:\n",
        "    print(f\"{feature_names[i]:20s}: {importances[i]:.4f}\")\n",
        "\n",
        "print()\n",
        "print(\"Basic Random Forest\")\n",
        "y_pred = model.predict(test)\n",
        "print_confusion_matrix(labels_test, y_pred)\n",
        "\n",
        "# SMOTE version:\n",
        "print()\n",
        "print(\"Basic Random Forest plus SMOTE:\")\n",
        "X_resampled, y_resampled = smote.fit_resample(train_and_val, labels_train_and_val)\n",
        "model.fit(X_resampled, y_resampled)\n",
        "y_pred = model.predict(test)\n",
        "print_confusion_matrix(labels_test, y_pred)\n",
        "print('---------------------------------------------------------------------\\n')\n",
        "\n",
        "# Random Forest with clean data:\n",
        "print()\n",
        "print(\"Using 'clean' data:\")\n",
        "model = RandomForestClassifier(n_estimators=200, random_state=42)\n",
        "model.fit(clean_train_and_val, clean_labels_train_and_val)\n",
        "\n",
        "y_pred = model.predict(clean_test)\n",
        "print_confusion_matrix(clean_labels_test, y_pred)\n",
        "\n",
        "# SMOTE version:\n",
        "print()\n",
        "print(\"Using 'clean' data plus SMOTE:\")\n",
        "X_resampled, y_resampled = smote.fit_resample(clean_train_and_val, clean_labels_train_and_val)\n",
        "model.fit(X_resampled, y_resampled)\n",
        "y_pred = model.predict(clean_test)\n",
        "print_confusion_matrix(clean_labels_test, y_pred)\n",
        "print('---------------------------------------------------------------------\\n')\n",
        "\n",
        "# Random Forest with binary data:\n",
        "print()\n",
        "print(\"Using binary data:\")\n",
        "model = RandomForestClassifier(n_estimators=200, random_state=42)\n",
        "model.fit(train_and_val_2, labels_train_and_val_2)\n",
        "\n",
        "y_pred = model.predict(test_2)\n",
        "print_confusion_matrix(labels_test_2, y_pred)\n",
        "\n",
        "# SMOTE version:\n",
        "print()\n",
        "print(\"Using binary data plus SMOTE:\")\n",
        "X_resampled, y_resampled = smote.fit_resample(train_and_val_2, labels_train_and_val_2)\n",
        "model.fit(X_resampled, y_resampled)\n",
        "y_pred = model.predict(test_2)\n",
        "print_confusion_matrix(labels_test_2, y_pred)\n",
        "print('---------------------------------------------------------------------\\n')\n",
        "\n",
        "# Random Forest with clean binary data:\n",
        "print()\n",
        "print(\"Using 'clean' binary data:\")\n",
        "model = RandomForestClassifier(n_estimators=200, random_state=42)\n",
        "model.fit(c2_train_and_val, c2_labels_train_and_val)\n",
        "\n",
        "y_pred = model.predict(clean_test)\n",
        "print_confusion_matrix(clean_labels_test, y_pred)\n",
        "\n",
        "# SMOTE version:\n",
        "print()\n",
        "print(\"Using 'clean' binary data plus SMOTE:\")\n",
        "X_resampled, y_resampled = smote.fit_resample(c2_train_and_val, c2_labels_train_and_val)\n",
        "model.fit(X_resampled, y_resampled)\n",
        "y_pred = model.predict(clean_test)\n",
        "print_confusion_matrix(clean_labels_test, y_pred)"
      ],
      "metadata": {
        "colab": {
          "base_uri": "https://localhost:8080/",
          "height": 1000
        },
        "id": "lYYi94LWf59x",
        "outputId": "3b16e04e-9405-497d-c19e-08891aeaaf37"
      },
      "execution_count": 233,
      "outputs": [
        {
          "output_type": "stream",
          "name": "stdout",
          "text": [
            "Feature importance by contribution:\n",
            "M                   : 0.3226\n",
            "FirstPurch          : 0.1343\n",
            "R                   : 0.1147\n",
            "F                   : 0.0736\n",
            "ArtBks              : 0.0545\n",
            "GeogBks             : 0.0449\n",
            "CookBks             : 0.0432\n",
            "ChildBks            : 0.0427\n",
            "DoItYBks            : 0.0373\n",
            "RefBks              : 0.0311\n",
            "YouthBks            : 0.0306\n",
            "Gender              : 0.0236\n",
            "ItalCook            : 0.0233\n",
            "ItalArt             : 0.0136\n",
            "ItalAtlas           : 0.0101\n",
            "\n",
            "Basic Random Forest\n"
          ]
        },
        {
          "output_type": "display_data",
          "data": {
            "text/plain": [
              "<Figure size 200x150 with 1 Axes>"
            ],
            "image/png": "[encoded data removed]"
          },
          "metadata": {}
        },
        {
          "output_type": "stream",
          "name": "stdout",
          "text": [
            "(Accuracy: 0.919)\n",
            "Precision: 0.250\n",
            "Recall:    0.020\n",
            "F1:        0.037\n",
            "AUC:       0.507\n",
            "\n",
            "Basic Random Forest plus SMOTE:\n"
          ]
        },
        {
          "output_type": "display_data",
          "data": {
            "text/plain": [
              "<Figure size 200x150 with 1 Axes>"
            ],
            "image/png": "[encoded data removed]"
          },
          "metadata": {}
        },
        {
          "output_type": "stream",
          "name": "stdout",
          "text": [
            "(Accuracy: 0.889)\n",
            "Precision: 0.111\n",
            "Recall:    0.060\n",
            "F1:        0.078\n",
            "AUC:       0.510\n",
            "---------------------------------------------------------------------\n",
            "\n",
            "\n",
            "Using 'clean' data:\n"
          ]
        },
        {
          "output_type": "display_data",
          "data": {
            "text/plain": [
              "<Figure size 200x150 with 1 Axes>"
            ],
            "image/png": "[encoded data removed]"
          },
          "metadata": {}
        },
        {
          "output_type": "stream",
          "name": "stdout",
          "text": [
            "(Accuracy: 0.919)\n",
            "Precision: 0.250\n",
            "Recall:    0.020\n",
            "F1:        0.037\n",
            "AUC:       0.507\n",
            "\n",
            "Using 'clean' data plus SMOTE:\n"
          ]
        },
        {
          "output_type": "display_data",
          "data": {
            "text/plain": [
              "<Figure size 200x150 with 1 Axes>"
            ],
            "image/png": "[encoded data removed]"
          },
          "metadata": {}
        },
        {
          "output_type": "stream",
          "name": "stdout",
          "text": [
            "(Accuracy: 0.894)\n",
            "Precision: 0.125\n",
            "Recall:    0.060\n",
            "F1:        0.081\n",
            "AUC:       0.512\n",
            "---------------------------------------------------------------------\n",
            "\n",
            "\n",
            "Using binary data:\n"
          ]
        },
        {
          "output_type": "display_data",
          "data": {
            "text/plain": [
              "<Figure size 200x150 with 1 Axes>"
            ],
            "image/png": "[encoded data removed]"
          },
          "metadata": {}
        },
        {
          "output_type": "stream",
          "name": "stdout",
          "text": [
            "(Accuracy: 0.911)\n",
            "Precision: 0.000\n",
            "Recall:    0.000\n",
            "F1:        0.000\n",
            "AUC:       0.494\n",
            "\n",
            "Using binary data plus SMOTE:\n"
          ]
        },
        {
          "output_type": "display_data",
          "data": {
            "text/plain": [
              "<Figure size 200x150 with 1 Axes>"
            ],
            "image/png": "[encoded data removed]"
          },
          "metadata": {}
        },
        {
          "output_type": "stream",
          "name": "stdout",
          "text": [
            "(Accuracy: 0.864)\n",
            "Precision: 0.106\n",
            "Recall:    0.100\n",
            "F1:        0.103\n",
            "AUC:       0.514\n",
            "---------------------------------------------------------------------\n",
            "\n",
            "\n",
            "Using 'clean' binary data:\n"
          ]
        },
        {
          "output_type": "display_data",
          "data": {
            "text/plain": [
              "<Figure size 200x150 with 1 Axes>"
            ],
            "image/png": "[encoded data removed]"
          },
          "metadata": {}
        },
        {
          "output_type": "stream",
          "name": "stdout",
          "text": [
            "(Accuracy: 0.912)\n",
            "Precision: 0.000\n",
            "Recall:    0.000\n",
            "F1:        0.000\n",
            "AUC:       0.495\n",
            "\n",
            "Using 'clean' binary data plus SMOTE:\n"
          ]
        },
        {
          "output_type": "display_data",
          "data": {
            "text/plain": [
              "<Figure size 200x150 with 1 Axes>"
            ],
            "image/png": "[encoded data removed]"
          },
          "metadata": {}
        },
        {
          "output_type": "stream",
          "name": "stdout",
          "text": [
            "(Accuracy: 0.848)\n",
            "Precision: 0.039\n",
            "Recall:    0.040\n",
            "F1:        0.040\n",
            "AUC:       0.478\n"
          ]
        }
      ]
    },
    {
      "cell_type": "markdown",
      "source": [
        "SMOTE did not improve AUC in every case, but it did improve it in the most succesful cases.\n",
        "\n",
        "Importantly, in all the usable cases (i.e. AUC > 0.5), SMOTE improved both AUC (slightly) and F1 score (dramatically).\n",
        "\n",
        "Best Results for Random Forest:\n",
        "\n",
        "F1:        0.103\n",
        "\n",
        "AUC:       0.514\n",
        "\n",
        "(for 'binary' data plus SMOTE)"
      ],
      "metadata": {
        "id": "2xt10lpVLcDH"
      }
    },
    {
      "cell_type": "markdown",
      "source": [
        "# Conclusion and Testing"
      ],
      "metadata": {
        "id": "dUsvGrKvx_ii"
      }
    },
    {
      "cell_type": "markdown",
      "source": [
        "Best Results from all models tested:\n",
        "\n",
        "F1: 0.181\n",
        "\n",
        "AUC: 0.566\n",
        "\n",
        "(NN, 'clean' data plus SMOTE, aka 'model_clean')"
      ],
      "metadata": {
        "id": "8VElixp_i939"
      }
    },
    {
      "cell_type": "code",
      "source": [
        "# # This time, train using ALL of the non-test data.\n",
        "\n",
        "# X_resampled, y_resampled = smote.fit_resample(df_scaled_clean, labels_clean)\n",
        "\n",
        "# model_clean.fit(X_resampled, y_resampled, epochs=10)                   # <-- ALL the non-test data."
      ],
      "metadata": {
        "id": "gl4jRl_93c16"
      },
      "execution_count": 234,
      "outputs": []
    },
    {
      "cell_type": "code",
      "source": [
        "test_url = 'http://pluto.hood.edu/~dong/datasets/CBC_800.csv'\n",
        "TEST_DATA = pd.read_csv(test_url, header='infer')\n",
        "TEST_DATA.head(1)"
      ],
      "metadata": {
        "colab": {
          "base_uri": "https://localhost:8080/",
          "height": 100
        },
        "id": "0V-51Sl8e4vp",
        "outputId": "d0e43861-c806-46e8-be4c-973c73c9055f"
      },
      "execution_count": 235,
      "outputs": [
        {
          "output_type": "execute_result",
          "data": {
            "text/plain": [
              "   Seq#    ID#  Gender    M   R  F  FirstPurch  ChildBks  YouthBks  CookBks  \\\n",
              "0  1576  13039       0  166  14  2          16         0         1        0   \n",
              "\n",
              "   DoItYBks  RefBks  ArtBks  GeogBks  ItalCook  ItalAtlas  ItalArt  Florence  \n",
              "0         0       0       0        0         0          0        0         0  "
            ],
            "text/html": [
              "\n",
              "  <div id=\"df-15b7b0d0-7b31-4c55-b040-e68ef5e570f6\" class=\"colab-df-container\">\n",
              "    <div>\n",
              "<style scoped>\n",
              "    .dataframe tbody tr th:only-of-type {\n",
              "        vertical-align: middle;\n",
              "    }\n",
              "\n",
              "    .dataframe tbody tr th {\n",
              "        vertical-align: top;\n",
              "    }\n",
              "\n",
              "    .dataframe thead th {\n",
              "        text-align: right;\n",
              "    }\n",
              "</style>\n",
              "<table border=\"1\" class=\"dataframe\">\n",
              "  <thead>\n",
              "    <tr style=\"text-align: right;\">\n",
              "      <th></th>\n",
              "      <th>Seq#</th>\n",
              "      <th>ID#</th>\n",
              "      <th>Gender</th>\n",
              "      <th>M</th>\n",
              "      <th>R</th>\n",
              "      <th>F</th>\n",
              "      <th>FirstPurch</th>\n",
              "      <th>ChildBks</th>\n",
              "      <th>YouthBks</th>\n",
              "      <th>CookBks</th>\n",
              "      <th>DoItYBks</th>\n",
              "      <th>RefBks</th>\n",
              "      <th>ArtBks</th>\n",
              "      <th>GeogBks</th>\n",
              "      <th>ItalCook</th>\n",
              "      <th>ItalAtlas</th>\n",
              "      <th>ItalArt</th>\n",
              "      <th>Florence</th>\n",
              "    </tr>\n",
              "  </thead>\n",
              "  <tbody>\n",
              "    <tr>\n",
              "      <th>0</th>\n",
              "      <td>1576</td>\n",
              "      <td>13039</td>\n",
              "      <td>0</td>\n",
              "      <td>166</td>\n",
              "      <td>14</td>\n",
              "      <td>2</td>\n",
              "      <td>16</td>\n",
              "      <td>0</td>\n",
              "      <td>1</td>\n",
              "      <td>0</td>\n",
              "      <td>0</td>\n",
              "      <td>0</td>\n",
              "      <td>0</td>\n",
              "      <td>0</td>\n",
              "      <td>0</td>\n",
              "      <td>0</td>\n",
              "      <td>0</td>\n",
              "      <td>0</td>\n",
              "    </tr>\n",
              "  </tbody>\n",
              "</table>\n",
              "</div>\n",
              "    <div class=\"colab-df-buttons\">\n",
              "\n",
              "  <div class=\"colab-df-container\">\n",
              "    <button class=\"colab-df-convert\" onclick=\"convertToInteractive('df-15b7b0d0-7b31-4c55-b040-e68ef5e570f6')\"\n",
              "            title=\"Convert this dataframe to an interactive table.\"\n",
              "            style=\"display:none;\">\n",
              "\n",
              "  <svg xmlns=\"http://www.w3.org/2000/svg\" height=\"24px\" viewBox=\"0 -960 960 960\">\n",
              "    <path d=\"M120-120v-720h720v720H120Zm60-500h600v-160H180v160Zm220 220h160v-160H400v160Zm0 220h160v-160H400v160ZM180-400h160v-160H180v160Zm440 0h160v-160H620v160ZM180-180h160v-160H180v160Zm440 0h160v-160H620v160Z\"/>\n",
              "  </svg>\n",
              "    </button>\n",
              "\n",
              "  <style>\n",
              "    .colab-df-container {\n",
              "      display:flex;\n",
              "      gap: 12px;\n",
              "    }\n",
              "\n",
              "    .colab-df-convert {\n",
              "      background-color: #E8F0FE;\n",
              "      border: none;\n",
              "      border-radius: 50%;\n",
              "      cursor: pointer;\n",
              "      display: none;\n",
              "      fill: #1967D2;\n",
              "      height: 32px;\n",
              "      padding: 0 0 0 0;\n",
              "      width: 32px;\n",
              "    }\n",
              "\n",
              "    .colab-df-convert:hover {\n",
              "      background-color: #E2EBFA;\n",
              "      box-shadow: 0px 1px 2px rgba(60, 64, 67, 0.3), 0px 1px 3px 1px rgba(60, 64, 67, 0.15);\n",
              "      fill: #174EA6;\n",
              "    }\n",
              "\n",
              "    .colab-df-buttons div {\n",
              "      margin-bottom: 4px;\n",
              "    }\n",
              "\n",
              "    [theme=dark] .colab-df-convert {\n",
              "      background-color: #3B4455;\n",
              "      fill: #D2E3FC;\n",
              "    }\n",
              "\n",
              "    [theme=dark] .colab-df-convert:hover {\n",
              "      background-color: #434B5C;\n",
              "      box-shadow: 0px 1px 3px 1px rgba(0, 0, 0, 0.15);\n",
              "      filter: drop-shadow(0px 1px 2px rgba(0, 0, 0, 0.3));\n",
              "      fill: #FFFFFF;\n",
              "    }\n",
              "  </style>\n",
              "\n",
              "    <script>\n",
              "      const buttonEl =\n",
              "        document.querySelector('#df-15b7b0d0-7b31-4c55-b040-e68ef5e570f6 button.colab-df-convert');\n",
              "      buttonEl.style.display =\n",
              "        google.colab.kernel.accessAllowed ? 'block' : 'none';\n",
              "\n",
              "      async function convertToInteractive(key) {\n",
              "        const element = document.querySelector('#df-15b7b0d0-7b31-4c55-b040-e68ef5e570f6');\n",
              "        const dataTable =\n",
              "          await google.colab.kernel.invokeFunction('convertToInteractive',\n",
              "                                                    [key], {});\n",
              "        if (!dataTable) return;\n",
              "\n",
              "        const docLinkHtml = 'Like what you see? Visit the ' +\n",
              "          '<a target=\"_blank\" href=https://colab.research.google.com/notebooks/data_table.ipynb>data table notebook</a>'\n",
              "          + ' to learn more about interactive tables.';\n",
              "        element.innerHTML = '';\n",
              "        dataTable['output_type'] = 'display_data';\n",
              "        await google.colab.output.renderOutput(dataTable, element);\n",
              "        const docLink = document.createElement('div');\n",
              "        docLink.innerHTML = docLinkHtml;\n",
              "        element.appendChild(docLink);\n",
              "      }\n",
              "    </script>\n",
              "  </div>\n",
              "\n",
              "\n",
              "    </div>\n",
              "  </div>\n"
            ],
            "application/vnd.google.colaboratory.intrinsic+json": {
              "type": "dataframe",
              "variable_name": "TEST_DATA",
              "summary": "{\n  \"name\": \"TEST_DATA\",\n  \"rows\": 800,\n  \"fields\": [\n    {\n      \"column\": \"Seq#\",\n      \"properties\": {\n        \"dtype\": \"number\",\n        \"std\": 1173,\n        \"min\": 17,\n        \"max\": 3993,\n        \"num_unique_values\": 800,\n        \"samples\": [\n          3836,\n          3194,\n          2579\n        ],\n        \"semantic_type\": \"\",\n        \"description\": \"\"\n      }\n    },\n    {\n      \"column\": \"ID#\",\n      \"properties\": {\n        \"dtype\": \"number\",\n        \"std\": 9638,\n        \"min\": 125,\n        \"max\": 32928,\n        \"num_unique_values\": 800,\n        \"samples\": [\n          31653,\n          26274,\n          21324\n        ],\n        \"semantic_type\": \"\",\n        \"description\": \"\"\n      }\n    },\n    {\n      \"column\": \"Gender\",\n      \"properties\": {\n        \"dtype\": \"number\",\n        \"std\": 0,\n        \"min\": 0,\n        \"max\": 1,\n        \"num_unique_values\": 2,\n        \"samples\": [\n          1,\n          0\n        ],\n        \"semantic_type\": \"\",\n        \"description\": \"\"\n      }\n    },\n    {\n      \"column\": \"M\",\n      \"properties\": {\n        \"dtype\": \"number\",\n        \"std\": 103,\n        \"min\": 17,\n        \"max\": 479,\n        \"num_unique_values\": 342,\n        \"samples\": [\n          452,\n          174\n        ],\n        \"semantic_type\": \"\",\n        \"description\": \"\"\n      }\n    },\n    {\n      \"column\": \"R\",\n      \"properties\": {\n        \"dtype\": \"number\",\n        \"std\": 8,\n        \"min\": 2,\n        \"max\": 36,\n        \"num_unique_values\": 18,\n        \"samples\": [\n          14,\n          12\n        ],\n        \"semantic_type\": \"\",\n        \"description\": \"\"\n      }\n    },\n    {\n      \"column\": \"F\",\n      \"properties\": {\n        \"dtype\": \"number\",\n        \"std\": 3,\n        \"min\": 1,\n        \"max\": 12,\n        \"num_unique_values\": 12,\n        \"samples\": [\n          7,\n          5\n        ],\n        \"semantic_type\": \"\",\n        \"description\": \"\"\n      }\n    },\n    {\n      \"column\": \"FirstPurch\",\n      \"properties\": {\n        \"dtype\": \"number\",\n        \"std\": 19,\n        \"min\": 2,\n        \"max\": 92,\n        \"num_unique_values\": 45,\n        \"samples\": [\n          64,\n          4\n        ],\n        \"semantic_type\": \"\",\n        \"description\": \"\"\n      }\n    },\n    {\n      \"column\": \"ChildBks\",\n      \"properties\": {\n        \"dtype\": \"number\",\n        \"std\": 0,\n        \"min\": 0,\n        \"max\": 5,\n        \"num_unique_values\": 6,\n        \"samples\": [\n          0,\n          1\n        ],\n        \"semantic_type\": \"\",\n        \"description\": \"\"\n      }\n    },\n    {\n      \"column\": \"YouthBks\",\n      \"properties\": {\n        \"dtype\": \"number\",\n        \"std\": 0,\n        \"min\": 0,\n        \"max\": 4,\n        \"num_unique_values\": 5,\n        \"samples\": [\n          0,\n          4\n        ],\n        \"semantic_type\": \"\",\n        \"description\": \"\"\n      }\n    },\n    {\n      \"column\": \"CookBks\",\n      \"properties\": {\n        \"dtype\": \"number\",\n        \"std\": 1,\n        \"min\": 0,\n        \"max\": 6,\n        \"num_unique_values\": 7,\n        \"samples\": [\n          0,\n          1\n        ],\n        \"semantic_type\": \"\",\n        \"description\": \"\"\n      }\n    },\n    {\n      \"column\": \"DoItYBks\",\n      \"properties\": {\n        \"dtype\": \"number\",\n        \"std\": 0,\n        \"min\": 0,\n        \"max\": 4,\n        \"num_unique_values\": 5,\n        \"samples\": [\n          1,\n          4\n        ],\n        \"semantic_type\": \"\",\n        \"description\": \"\"\n      }\n    },\n    {\n      \"column\": \"RefBks\",\n      \"properties\": {\n        \"dtype\": \"number\",\n        \"std\": 0,\n        \"min\": 0,\n        \"max\": 3,\n        \"num_unique_values\": 4,\n        \"samples\": [\n          1,\n          3\n        ],\n        \"semantic_type\": \"\",\n        \"description\": \"\"\n      }\n    },\n    {\n      \"column\": \"ArtBks\",\n      \"properties\": {\n        \"dtype\": \"number\",\n        \"std\": 0,\n        \"min\": 0,\n        \"max\": 5,\n        \"num_unique_values\": 6,\n        \"samples\": [\n          0,\n          2\n        ],\n        \"semantic_type\": \"\",\n        \"description\": \"\"\n      }\n    },\n    {\n      \"column\": \"GeogBks\",\n      \"properties\": {\n        \"dtype\": \"number\",\n        \"std\": 0,\n        \"min\": 0,\n        \"max\": 4,\n        \"num_unique_values\": 5,\n        \"samples\": [\n          2,\n          4\n        ],\n        \"semantic_type\": \"\",\n        \"description\": \"\"\n      }\n    },\n    {\n      \"column\": \"ItalCook\",\n      \"properties\": {\n        \"dtype\": \"number\",\n        \"std\": 0,\n        \"min\": 0,\n        \"max\": 2,\n        \"num_unique_values\": 3,\n        \"samples\": [\n          0,\n          1\n        ],\n        \"semantic_type\": \"\",\n        \"description\": \"\"\n      }\n    },\n    {\n      \"column\": \"ItalAtlas\",\n      \"properties\": {\n        \"dtype\": \"number\",\n        \"std\": 0,\n        \"min\": 0,\n        \"max\": 2,\n        \"num_unique_values\": 3,\n        \"samples\": [\n          0,\n          1\n        ],\n        \"semantic_type\": \"\",\n        \"description\": \"\"\n      }\n    },\n    {\n      \"column\": \"ItalArt\",\n      \"properties\": {\n        \"dtype\": \"number\",\n        \"std\": 0,\n        \"min\": 0,\n        \"max\": 2,\n        \"num_unique_values\": 3,\n        \"samples\": [\n          0,\n          1\n        ],\n        \"semantic_type\": \"\",\n        \"description\": \"\"\n      }\n    },\n    {\n      \"column\": \"Florence\",\n      \"properties\": {\n        \"dtype\": \"number\",\n        \"std\": 0,\n        \"min\": 0,\n        \"max\": 1,\n        \"num_unique_values\": 2,\n        \"samples\": [\n          1,\n          0\n        ],\n        \"semantic_type\": \"\",\n        \"description\": \"\"\n      }\n    }\n  ]\n}"
            }
          },
          "metadata": {},
          "execution_count": 235
        }
      ]
    },
    {
      "cell_type": "code",
      "source": [
        "test_df = TEST_DATA.copy(deep=True)\n",
        "\n",
        "test_df_labels = test_df['Florence']\n",
        "\n",
        "# Drop IDs and labels:\n",
        "ids_and_labels = ['ID#', 'Seq#', 'Florence']\n",
        "test_df_clean = test_df.drop(ids_and_labels, axis=1)\n",
        "\n",
        "# 'clean' feature R where FirstPurch > 36:\n",
        "my_mask = test_df['FirstPurch'] > 36\n",
        "test_df_clean.loc[my_mask, 'R'] = -36\n",
        "\n",
        "# Normalize the test data:\n",
        "# (repeat the exact same steps as for normalization of training data)\n",
        "non_numer_columns = ['Gender', 'Florence']\n",
        "numeric_columns = test_df_clean.columns.difference(non_numer_columns)\n",
        "scaled_numeric = scaler.fit_transform(test_df_clean[numeric_columns])\n",
        "df_scaled_numeric = pd.DataFrame(scaled_numeric, columns=numeric_columns)\n",
        "df_scaled = pd.concat([df_scaled_numeric, test_df_clean.drop(columns=numeric_columns)], axis=1)"
      ],
      "metadata": {
        "id": "iWxTO6Ri1QC-"
      },
      "execution_count": 236,
      "outputs": []
    },
    {
      "cell_type": "code",
      "source": [
        "print(test_df_labels.shape)\n",
        "print(test_df_labels.value_counts())"
      ],
      "metadata": {
        "colab": {
          "base_uri": "https://localhost:8080/"
        },
        "id": "EhYUdXtJ4otr",
        "outputId": "871ce6f4-9735-4dcb-b354-5e4095ac74c5"
      },
      "execution_count": 237,
      "outputs": [
        {
          "output_type": "stream",
          "name": "stdout",
          "text": [
            "(800,)\n",
            "Florence\n",
            "0    732\n",
            "1     68\n",
            "Name: count, dtype: int64\n"
          ]
        }
      ]
    },
    {
      "cell_type": "code",
      "source": [
        "# Test.\n",
        "y_pred = model_clean.predict(df_scaled)\n",
        "y_pred = [1 if x > 0.5 else 0 for x in y_pred]\n",
        "print_confusion_matrix(test_df_labels, y_pred)"
      ],
      "metadata": {
        "colab": {
          "base_uri": "https://localhost:8080/",
          "height": 320
        },
        "id": "4XJo9pTo3ToX",
        "outputId": "e7ac8b18-d0f5-42d8-f171-f072e4701fb2"
      },
      "execution_count": 238,
      "outputs": [
        {
          "output_type": "stream",
          "name": "stdout",
          "text": [
            "\u001b[1m25/25\u001b[0m \u001b[32m━━━━━━━━━━━━━━━━━━━━\u001b[0m\u001b[37m\u001b[0m \u001b[1m0s\u001b[0m 1ms/step \n"
          ]
        },
        {
          "output_type": "display_data",
          "data": {
            "text/plain": [
              "<Figure size 200x150 with 1 Axes>"
            ],
            "image/png": "[encoded data removed]"
          },
          "metadata": {}
        },
        {
          "output_type": "stream",
          "name": "stdout",
          "text": [
            "(Accuracy: 0.854)\n",
            "Precision: 0.190\n",
            "Recall:    0.221\n",
            "F1:        0.204\n",
            "AUC:       0.567\n"
          ]
        }
      ]
    },
    {
      "cell_type": "markdown",
      "source": [
        "Final Results:\n",
        "\n",
        "F1: 0.191\n",
        "\n",
        "AUC: 0.570"
      ],
      "metadata": {
        "id": "wPQQ7Hsa7rjt"
      }
    },
    {
      "cell_type": "markdown",
      "source": [
        "# References"
      ],
      "metadata": {
        "id": "Y8GZyJCkyCKz"
      }
    },
    {
      "cell_type": "markdown",
      "source": [
        "[1] MJC_post_EDA_Data_Mining_Midterm.ipynb"
      ],
      "metadata": {
        "id": "iXX4m6e8wZ7q"
      }
    },
    {
      "cell_type": "markdown",
      "source": [
        "# Print All"
      ],
      "metadata": {
        "id": "37cnI0x2yEn0"
      }
    },
    {
      "cell_type": "code",
      "source": [
        "# PRINT TO PDF\n",
        "# do not include the output from installation.\n",
        "!apt-get install texlive texlive-xetex texlive-latex-extra pandoc\n",
        "!pip install pypandoc\n",
        "!pip install nbconvert\n",
        "\n",
        "# Clear output:\n",
        "from IPython.display import clear_output\n",
        "clear_output()"
      ],
      "metadata": {
        "id": "FIdWV0jOyIj5"
      },
      "execution_count": 239,
      "outputs": []
    },
    {
      "cell_type": "code",
      "source": [
        "from google.colab import drive\n",
        "drive.mount('/content/drive')"
      ],
      "metadata": {
        "id": "6gQmSo_syP__",
        "colab": {
          "base_uri": "https://localhost:8080/"
        },
        "outputId": "7af525b0-180c-4ad5-e640-94bddc07afda"
      },
      "execution_count": 240,
      "outputs": [
        {
          "output_type": "stream",
          "name": "stdout",
          "text": [
            "Mounted at /content/drive\n"
          ]
        }
      ]
    },
    {
      "cell_type": "code",
      "source": [
        "!jupyter nbconvert  '/content/drive/MyDrive/Colab Notebooks/MJC_SS_Data_Mining_Final.ipynb' --to pdf"
      ],
      "metadata": {
        "id": "58Yg2kwYyWnc",
        "colab": {
          "base_uri": "https://localhost:8080/"
        },
        "outputId": "06b03fa3-e31c-4897-b5da-c65a925dea2a"
      },
      "execution_count": 241,
      "outputs": [
        {
          "output_type": "stream",
          "name": "stdout",
          "text": [
            "[NbConvertApp] Converting notebook /content/drive/MyDrive/Colab Notebooks/MJC_SS_Data_Mining_Final.ipynb to pdf\n",
            "[NbConvertApp] Writing 20062 bytes to notebook.tex\n",
            "[NbConvertApp] Building PDF\n",
            "[NbConvertApp] Running xelatex 3 times: ['xelatex', 'notebook.tex', '-quiet']\n",
            "[NbConvertApp] Running bibtex 1 time: ['bibtex', 'notebook']\n",
            "[NbConvertApp] WARNING | bibtex had problems, most likely because there were no citations\n",
            "[NbConvertApp] PDF successfully created\n",
            "[NbConvertApp] Writing 14227 bytes to /content/drive/MyDrive/Colab Notebooks/MJC_SS_Data_Mining_Final.pdf\n"
          ]
        }
      ]
    }
  ]
}
{
  "nbformat": 4,
  "nbformat_minor": 0,
  "metadata": {
    "colab": {
      "provenance": [],
      "toc_visible": true,
      "authorship_tag": "ABX9TyNWsi2r2uPYtq5LokfQOsve",
      "include_colab_link": true
    },
    "kernelspec": {
      "name": "python3",
      "display_name": "Python 3"
    },
    "language_info": {
      "name": "python"
    }
  },
  "cells": [
    {
      "cell_type": "markdown",
      "metadata": {
        "id": "view-in-github",
        "colab_type": "text"
      },
      "source": [
        "<a href=\"https://colab.research.google.com/github/shayar/DM-Final-Project/blob/print-to-pdf/MJC_SS_Data_Mining_Final.ipynb\" target=\"_parent\"><img src=\"https://colab.research.google.com/assets/colab-badge.svg\" alt=\"Open In Colab\"/></a>"
      ]
    },
    {
      "cell_type": "markdown",
      "source": [
        "# Introduction"
      ],
      "metadata": {
        "id": "Jt17GwcQlckm"
      }
    },
    {
      "cell_type": "markdown",
      "source": [
        "Data Mining Final Project\n",
        "\n",
        "by\n",
        "\n",
        "Matthew Curran and\n",
        "\n",
        "Shayar Shrestha"
      ],
      "metadata": {
        "id": "1hp26QXiljbZ"
      }
    },
    {
      "cell_type": "markdown",
      "source": [
        "# Load Data"
      ],
      "metadata": {
        "id": "TJtd4cnblpCA"
      }
    },
    {
      "cell_type": "markdown",
      "source": [
        "# Exploratory Data Analysis"
      ],
      "metadata": {
        "id": "FL-unv_Px8bV"
      }
    },
    {
      "cell_type": "markdown",
      "source": [
        "# Conlcusions"
      ],
      "metadata": {
        "id": "dUsvGrKvx_ii"
      }
    },
    {
      "cell_type": "markdown",
      "source": [
        "# References"
      ],
      "metadata": {
        "id": "Y8GZyJCkyCKz"
      }
    },
    {
      "cell_type": "markdown",
      "source": [
        "# Print All"
      ],
      "metadata": {
        "id": "37cnI0x2yEn0"
      }
    },
    {
      "cell_type": "code",
      "source": [
        "# PRINT TO PDF\n",
        "# do not include the output from installation.\n",
        "!apt-get install texlive texlive-xetex texlive-latex-extra pandoc\n",
        "!pip install pypandoc\n",
        "!pip install nbconvert\n",
        "\n",
        "# Clear output:\n",
        "from IPython.display import clear_output\n",
        "clear_output()"
      ],
      "metadata": {
        "id": "FIdWV0jOyIj5"
      },
      "execution_count": null,
      "outputs": []
    },
    {
      "cell_type": "code",
      "source": [
        "from google.colab import drive\n",
        "drive.mount('/content/drive')"
      ],
      "metadata": {
        "id": "6gQmSo_syP__"
      },
      "execution_count": null,
      "outputs": []
    },
    {
      "cell_type": "code",
      "source": [
        "!jupyter nbconvert  '/content/drive/MyDrive/Colab Notebooks/MJC_SS_Data_Mining_Final.ipynb' --to pdf"
      ],
      "metadata": {
        "id": "58Yg2kwYyWnc"
      },
      "execution_count": null,
      "outputs": []
    }
  ]
}